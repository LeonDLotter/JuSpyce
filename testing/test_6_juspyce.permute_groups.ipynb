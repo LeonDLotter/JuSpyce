{
 "cells": [
  {
   "cell_type": "markdown",
   "metadata": {},
   "source": [
    "# JuSpyce API test: group permutation test"
   ]
  },
  {
   "cell_type": "code",
   "execution_count": 1,
   "metadata": {},
   "outputs": [
    {
     "name": "stdout",
     "output_type": "stream",
     "text": [
      "/Users/llotter/projects/juspyce\n"
     ]
    }
   ],
   "source": [
    "import sys\n",
    "import os\n",
    "from glob import glob\n",
    "import pathlib\n",
    "import numpy as np\n",
    "import pandas as pd\n",
    "from IPython.display import display\n",
    "import seaborn as sns\n",
    "import matplotlib.pyplot as plt\n",
    "\n",
    "# current path\n",
    "wd = pathlib.Path().resolve().parent\n",
    "print(wd)\n",
    "\n",
    "# import juspyce\n",
    "sys.path.append(os.path.dirname(os.path.join(wd, \"juspyce\")))\n",
    "from juspyce.api import JuSpyce\n",
    "from juspyce.stats import *\n",
    "from juspyce.utils import *"
   ]
  },
  {
   "cell_type": "markdown",
   "metadata": {},
   "source": [
    "## Load JuSpyce data from test_juspyce.fit.ipynb"
   ]
  },
  {
   "cell_type": "code",
   "execution_count": 2,
   "metadata": {},
   "outputs": [
    {
     "name": "stderr",
     "output_type": "stream",
     "text": [
      "INFO:juspyce.api:Loaded complete object from /Users/llotter/projects/juspyce/testing/test_juspyce_vol.pkl.gz.\n"
     ]
    }
   ],
   "source": [
    "juspyce_vol = JuSpyce.from_pickle(os.path.join(wd, \"testing\", \"test_juspyce_vol.pkl.gz\"))"
   ]
  },
  {
   "cell_type": "markdown",
   "metadata": {},
   "source": [
    "## Permutation of group assignment to compare predictions between groups\n",
    "\n",
    "This is based on the idea of the original [JuSpace](https://github.com/juryxy/JuSpace) toolbox. If group differences in a certain imaging modality have biological meaning, they may align with the distribution of a certain neurotransmitter (e.g., see in the JuSpace paper: the difference in rsfMRI activity between patients with Parkinson's and healthy controls aligns with dopaminergic transmitter maps).\n",
    "Two groups are defined via a vector with the length of the \"Y\" dataframe. The difference between two groups (mean difference, Cohen's d, every vector in group A - mean of group B, ...) is calculated (`JuSpyce.transform()`) and a prediction function (`JuSpyce.predict()`) is applied. The group labels are permuted `n_perm` times and the transform and prediction process is repeated to generate null distributions of \"prediction values\" ($R^2$, correlation coefficients, ...). From these, p values are calculated.  \n",
    "In many cases, these null distributions are based on the means of the predicted values rather then the individual predicted values. This makes sense as one would often ask questions as, for example, \"Does the *average* deviation of brain activity in an individual relative to a reference cohort relate to a certain predictor?\". This behavior can be modified via `JuSpyce.permute_groups(p_from_average_y=True)` with `True`, `mean`, or `median` leading to calculation of a p value for the group-wise mean/median of prediction values (True -> median) and `False` forcing individual p values. "
   ]
  },
  {
   "cell_type": "markdown",
   "metadata": {},
   "source": [
    "### Grouping variable"
   ]
  },
  {
   "cell_type": "code",
   "execution_count": 3,
   "metadata": {},
   "outputs": [
    {
     "name": "stdout",
     "output_type": "stream",
     "text": [
      "28 [0, 0, 0, 0, 0, 0, 0, 0, 0, 0, 0, 0, 0, 0, 1, 1, 1, 1, 1, 1, 1, 1, 1, 1, 1, 1, 1, 1]\n"
     ]
    }
   ],
   "source": [
    "n_Y = juspyce_vol.Y.shape[0]\n",
    "groups = [0] * int(n_Y/2) + [1] * int(n_Y/2)\n",
    "print(n_Y, groups)"
   ]
  },
  {
   "cell_type": "markdown",
   "metadata": {},
   "source": [
    "### Does the mean difference between two groups correlate with a certain transmitter?\n",
    "\n",
    "mean difference of two groups -> one vector "
   ]
  },
  {
   "cell_type": "code",
   "execution_count": 4,
   "metadata": {},
   "outputs": [
    {
     "name": "stderr",
     "output_type": "stream",
     "text": [
      "INFO:juspyce.api:Running 'true' group comparison and prediction (comparison = 'diff(mean(A),mean(B))', method = 'spearman', using mean of predictions).\n",
      "INFO:juspyce.api:Subtracting parcelwise mean of B from mean of A: new Y = mean(Y[A]) - mean(Y[B]).\n"
     ]
    },
    {
     "data": {
      "application/vnd.jupyter.widget-view+json": {
       "model_id": "a24ed3e2694845c39bc69634422097bb",
       "version_major": 2,
       "version_minor": 0
      },
      "text/plain": [
       "Predicting (spearman, 1 proc):   0%|          | 0/1 [00:00<?, ?it/s]"
      ]
     },
     "metadata": {},
     "output_type": "display_data"
    },
    {
     "name": "stderr",
     "output_type": "stream",
     "text": [
      "INFO:juspyce.api:Running null group comparisons and predictions (comparison = 'diff(mean(A),mean(B))', method = 'spearman', using mean of predictions).\n"
     ]
    },
    {
     "data": {
      "application/vnd.jupyter.widget-view+json": {
       "model_id": "b581d16c062244939c9d2dbb6b6b0d59",
       "version_major": 2,
       "version_minor": 0
      },
      "text/plain": [
       "Null comparisons (spearman, 8 proc):   0%|          | 0/1000 [00:00<?, ?it/s]"
      ]
     },
     "metadata": {},
     "output_type": "display_data"
    },
    {
     "name": "stderr",
     "output_type": "stream",
     "text": [
      "INFO:juspyce.api:Calculating exact p-values (tails = 'two').\n"
     ]
    }
   ],
   "source": [
    "# permute groups\n",
    "p_data, true_predictions, null_predictions = juspyce_vol.permute_groups(\n",
    "    method=\"spearman\", \n",
    "    comparison=\"diff(mean(A),mean(B))\", \n",
    "    groups=groups,\n",
    "    n_perm=1000, \n",
    "    p_tail=\"two\",\n",
    "    r_to_z=True, adjust_r2=True, mlr_individual=True,\n",
    "    n_proc=8, n_proc_predict=1, seed=None,\n",
    "    verbose=True, store=True)"
   ]
  },
  {
   "cell_type": "code",
   "execution_count": 5,
   "metadata": {},
   "outputs": [
    {
     "data": {
      "text/plain": [
       "dict_keys(['diff(mean(A),mean(B))-spearman'])"
      ]
     },
     "execution_count": 5,
     "metadata": {},
     "output_type": "execute_result"
    }
   ],
   "source": [
    "# look at the result\n",
    "juspyce_vol.p_comparisons.keys()"
   ]
  },
  {
   "cell_type": "code",
   "execution_count": 6,
   "metadata": {},
   "outputs": [
    {
     "data": {
      "text/html": [
       "<div>\n",
       "<style scoped>\n",
       "    .dataframe tbody tr th:only-of-type {\n",
       "        vertical-align: middle;\n",
       "    }\n",
       "\n",
       "    .dataframe tbody tr th {\n",
       "        vertical-align: top;\n",
       "    }\n",
       "\n",
       "    .dataframe thead th {\n",
       "        text-align: right;\n",
       "    }\n",
       "</style>\n",
       "<table border=\"1\" class=\"dataframe\">\n",
       "  <thead>\n",
       "    <tr style=\"text-align: right;\">\n",
       "      <th></th>\n",
       "      <th>5HT2a-cimbi36-29-beliveau2017</th>\n",
       "      <th>NMDA-ge179-29-galovic2021</th>\n",
       "      <th>mGluR5-abp688-73-smart2019</th>\n",
       "      <th>MU-carfentanil-204-kantonen2020</th>\n",
       "      <th>GABAa-flumazenil-6-dukart2018</th>\n",
       "      <th>5HT1b-p943-65-gallezot2010</th>\n",
       "      <th>D2-raclopride-156-malen2022</th>\n",
       "    </tr>\n",
       "  </thead>\n",
       "  <tbody>\n",
       "    <tr>\n",
       "      <th>mean-diff(mean(A),mean(B))</th>\n",
       "      <td>0.304</td>\n",
       "      <td>0.736</td>\n",
       "      <td>0.796</td>\n",
       "      <td>0.598</td>\n",
       "      <td>0.228</td>\n",
       "      <td>0.684</td>\n",
       "      <td>0.786</td>\n",
       "    </tr>\n",
       "  </tbody>\n",
       "</table>\n",
       "</div>"
      ],
      "text/plain": [
       "                            5HT2a-cimbi36-29-beliveau2017  \\\n",
       "mean-diff(mean(A),mean(B))                          0.304   \n",
       "\n",
       "                            NMDA-ge179-29-galovic2021  \\\n",
       "mean-diff(mean(A),mean(B))                      0.736   \n",
       "\n",
       "                            mGluR5-abp688-73-smart2019  \\\n",
       "mean-diff(mean(A),mean(B))                       0.796   \n",
       "\n",
       "                            MU-carfentanil-204-kantonen2020  \\\n",
       "mean-diff(mean(A),mean(B))                            0.598   \n",
       "\n",
       "                            GABAa-flumazenil-6-dukart2018  \\\n",
       "mean-diff(mean(A),mean(B))                          0.228   \n",
       "\n",
       "                            5HT1b-p943-65-gallezot2010  \\\n",
       "mean-diff(mean(A),mean(B))                       0.684   \n",
       "\n",
       "                            D2-raclopride-156-malen2022  \n",
       "mean-diff(mean(A),mean(B))                        0.786  "
      ]
     },
     "execution_count": 6,
     "metadata": {},
     "output_type": "execute_result"
    }
   ],
   "source": [
    "juspyce_vol.p_comparisons[\"diff(mean(A),mean(B))-spearman\"]"
   ]
  },
  {
   "cell_type": "markdown",
   "metadata": {},
   "source": [
    "### Can the effect size between two groups be predicted from a certain transmitter?"
   ]
  },
  {
   "cell_type": "code",
   "execution_count": 7,
   "metadata": {},
   "outputs": [
    {
     "name": "stderr",
     "output_type": "stream",
     "text": [
      "INFO:juspyce.api:Calculating parcelwise effect size between A and B (cohen, paired: False).\n"
     ]
    },
    {
     "data": {
      "application/vnd.jupyter.widget-view+json": {
       "model_id": "f4db69cffbf94527b0f71e28b1a1c35a",
       "version_major": 2,
       "version_minor": 0
      },
      "text/plain": [
       "  0%|          | 0/116 [00:00<?, ?it/s]"
      ]
     },
     "metadata": {},
     "output_type": "display_data"
    },
    {
     "data": {
      "application/vnd.jupyter.widget-view+json": {
       "model_id": "5badbc168caf413093f15bd4fb349469",
       "version_major": 2,
       "version_minor": 0
      },
      "text/plain": [
       "Predicting (dominance, 8 proc):   0%|          | 0/1 [00:00<?, ?it/s]"
      ]
     },
     "metadata": {},
     "output_type": "display_data"
    },
    {
     "name": "stderr",
     "output_type": "stream",
     "text": [
      "INFO:juspyce.api:Running 'true' group comparison and prediction (comparison = 'cohen(A,B)', method = 'dominance', using mean of predictions).\n",
      "INFO:juspyce.api:Calculating parcelwise effect size between A and B (cohen, paired: False).\n"
     ]
    },
    {
     "data": {
      "application/vnd.jupyter.widget-view+json": {
       "model_id": "cb292857af4a4720bc271f03889a9f67",
       "version_major": 2,
       "version_minor": 0
      },
      "text/plain": [
       "  0%|          | 0/116 [00:00<?, ?it/s]"
      ]
     },
     "metadata": {},
     "output_type": "display_data"
    },
    {
     "data": {
      "application/vnd.jupyter.widget-view+json": {
       "model_id": "e159f61c8bf549009625d4542b7273a4",
       "version_major": 2,
       "version_minor": 0
      },
      "text/plain": [
       "Predicting (dominance, 1 proc):   0%|          | 0/1 [00:00<?, ?it/s]"
      ]
     },
     "metadata": {},
     "output_type": "display_data"
    },
    {
     "name": "stderr",
     "output_type": "stream",
     "text": [
      "INFO:juspyce.api:Running null group comparisons and predictions (comparison = 'cohen(A,B)', method = 'dominance', using mean of predictions).\n"
     ]
    },
    {
     "data": {
      "application/vnd.jupyter.widget-view+json": {
       "model_id": "9c5b5e0fbb2f43c2881ea3e84acf0ec3",
       "version_major": 2,
       "version_minor": 0
      },
      "text/plain": [
       "Null comparisons (dominance, 8 proc):   0%|          | 0/1000 [00:00<?, ?it/s]"
      ]
     },
     "metadata": {},
     "output_type": "display_data"
    },
    {
     "name": "stderr",
     "output_type": "stream",
     "text": [
      "INFO:juspyce.api:Calculating exact p-values (tails = 'two').\n"
     ]
    }
   ],
   "source": [
    "# compare\n",
    "juspyce_vol.compare(\n",
    "    comparison=\"cohen(A,B)\",\n",
    "    groups=groups\n",
    ")\n",
    "# predict\n",
    "juspyce_vol.predict(\n",
    "    method=\"dominance\",\n",
    "    comparison=\"cohen(A,B)\"\n",
    ")\n",
    "# permute groups\n",
    "p_data, true_predictions, null_predictions = juspyce_vol.permute_groups(\n",
    "    method=\"dominance\", \n",
    "    comparison=\"cohen(A,B)\", \n",
    "    groups=groups,\n",
    "    n_perm=1000, \n",
    "    p_tail=\"two\",\n",
    "    r_to_z=True, adjust_r2=True, mlr_individual=True,\n",
    "    n_proc=8, n_proc_predict=1, seed=None,\n",
    "    verbose=True, store=True)"
   ]
  },
  {
   "cell_type": "code",
   "execution_count": 8,
   "metadata": {},
   "outputs": [
    {
     "data": {
      "text/plain": [
       "dict_keys(['diff(mean(A),mean(B))-spearman', 'cohen(A,B)-dominance_total', 'cohen(A,B)-dominance_individual', 'cohen(A,B)-dominance_relative', 'cohen(A,B)-dominance_full_r2'])"
      ]
     },
     "execution_count": 8,
     "metadata": {},
     "output_type": "execute_result"
    }
   ],
   "source": [
    "# look at the result\n",
    "juspyce_vol.p_comparisons.keys()"
   ]
  },
  {
   "cell_type": "code",
   "execution_count": 9,
   "metadata": {},
   "outputs": [
    {
     "data": {
      "text/html": [
       "<div>\n",
       "<style scoped>\n",
       "    .dataframe tbody tr th:only-of-type {\n",
       "        vertical-align: middle;\n",
       "    }\n",
       "\n",
       "    .dataframe tbody tr th {\n",
       "        vertical-align: top;\n",
       "    }\n",
       "\n",
       "    .dataframe thead th {\n",
       "        text-align: right;\n",
       "    }\n",
       "</style>\n",
       "<table border=\"1\" class=\"dataframe\">\n",
       "  <thead>\n",
       "    <tr style=\"text-align: right;\">\n",
       "      <th></th>\n",
       "      <th>LH_Vis_1</th>\n",
       "      <th>LH_Vis_2</th>\n",
       "      <th>LH_Vis_3</th>\n",
       "      <th>LH_Vis_4</th>\n",
       "      <th>LH_Vis_5</th>\n",
       "      <th>LH_Vis_6</th>\n",
       "      <th>LH_Vis_7</th>\n",
       "      <th>LH_Vis_8</th>\n",
       "      <th>LH_Vis_9</th>\n",
       "      <th>LH_SomMot_1</th>\n",
       "      <th>...</th>\n",
       "      <th>PUT-rh</th>\n",
       "      <th>CAU-rh</th>\n",
       "      <th>HIP-lh</th>\n",
       "      <th>AMY-lh</th>\n",
       "      <th>pTHA-lh</th>\n",
       "      <th>aTHA-lh</th>\n",
       "      <th>NAc-lh</th>\n",
       "      <th>GP-lh</th>\n",
       "      <th>PUT-lh</th>\n",
       "      <th>CAU-lh</th>\n",
       "    </tr>\n",
       "  </thead>\n",
       "  <tbody>\n",
       "    <tr>\n",
       "      <th>cohen(A,B)</th>\n",
       "      <td>0.276661</td>\n",
       "      <td>-0.517828</td>\n",
       "      <td>-0.696612</td>\n",
       "      <td>-0.325058</td>\n",
       "      <td>-0.60921</td>\n",
       "      <td>-0.590054</td>\n",
       "      <td>-0.575566</td>\n",
       "      <td>-0.433675</td>\n",
       "      <td>-0.551265</td>\n",
       "      <td>0.381074</td>\n",
       "      <td>...</td>\n",
       "      <td>0.231055</td>\n",
       "      <td>0.146563</td>\n",
       "      <td>0.221554</td>\n",
       "      <td>-0.316784</td>\n",
       "      <td>0.543487</td>\n",
       "      <td>0.423675</td>\n",
       "      <td>0.000933</td>\n",
       "      <td>0.213862</td>\n",
       "      <td>0.331783</td>\n",
       "      <td>0.157934</td>\n",
       "    </tr>\n",
       "  </tbody>\n",
       "</table>\n",
       "<p>1 rows × 116 columns</p>\n",
       "</div>"
      ],
      "text/plain": [
       "            LH_Vis_1  LH_Vis_2  LH_Vis_3  LH_Vis_4  LH_Vis_5  LH_Vis_6  \\\n",
       "cohen(A,B)  0.276661 -0.517828 -0.696612 -0.325058  -0.60921 -0.590054   \n",
       "\n",
       "            LH_Vis_7  LH_Vis_8  LH_Vis_9  LH_SomMot_1  ...    PUT-rh  \\\n",
       "cohen(A,B) -0.575566 -0.433675 -0.551265     0.381074  ...  0.231055   \n",
       "\n",
       "              CAU-rh    HIP-lh    AMY-lh   pTHA-lh   aTHA-lh    NAc-lh  \\\n",
       "cohen(A,B)  0.146563  0.221554 -0.316784  0.543487  0.423675  0.000933   \n",
       "\n",
       "               GP-lh    PUT-lh    CAU-lh  \n",
       "cohen(A,B)  0.213862  0.331783  0.157934  \n",
       "\n",
       "[1 rows x 116 columns]"
      ]
     },
     "metadata": {},
     "output_type": "display_data"
    },
    {
     "data": {
      "text/html": [
       "<div>\n",
       "<style scoped>\n",
       "    .dataframe tbody tr th:only-of-type {\n",
       "        vertical-align: middle;\n",
       "    }\n",
       "\n",
       "    .dataframe tbody tr th {\n",
       "        vertical-align: top;\n",
       "    }\n",
       "\n",
       "    .dataframe thead th {\n",
       "        text-align: right;\n",
       "    }\n",
       "</style>\n",
       "<table border=\"1\" class=\"dataframe\">\n",
       "  <thead>\n",
       "    <tr style=\"text-align: right;\">\n",
       "      <th></th>\n",
       "      <th>5HT2a-cimbi36-29-beliveau2017</th>\n",
       "      <th>NMDA-ge179-29-galovic2021</th>\n",
       "      <th>mGluR5-abp688-73-smart2019</th>\n",
       "      <th>MU-carfentanil-204-kantonen2020</th>\n",
       "      <th>GABAa-flumazenil-6-dukart2018</th>\n",
       "      <th>5HT1b-p943-65-gallezot2010</th>\n",
       "      <th>D2-raclopride-156-malen2022</th>\n",
       "    </tr>\n",
       "  </thead>\n",
       "  <tbody>\n",
       "    <tr>\n",
       "      <th>cohen(A,B)</th>\n",
       "      <td>0.038337</td>\n",
       "      <td>0.000977</td>\n",
       "      <td>0.023584</td>\n",
       "      <td>0.021675</td>\n",
       "      <td>0.082861</td>\n",
       "      <td>0.005747</td>\n",
       "      <td>0.018984</td>\n",
       "    </tr>\n",
       "  </tbody>\n",
       "</table>\n",
       "</div>"
      ],
      "text/plain": [
       "            5HT2a-cimbi36-29-beliveau2017  NMDA-ge179-29-galovic2021  \\\n",
       "cohen(A,B)                       0.038337                   0.000977   \n",
       "\n",
       "            mGluR5-abp688-73-smart2019  MU-carfentanil-204-kantonen2020  \\\n",
       "cohen(A,B)                    0.023584                         0.021675   \n",
       "\n",
       "            GABAa-flumazenil-6-dukart2018  5HT1b-p943-65-gallezot2010  \\\n",
       "cohen(A,B)                       0.082861                    0.005747   \n",
       "\n",
       "            D2-raclopride-156-malen2022  \n",
       "cohen(A,B)                     0.018984  "
      ]
     },
     "metadata": {},
     "output_type": "display_data"
    },
    {
     "data": {
      "text/html": [
       "<div>\n",
       "<style scoped>\n",
       "    .dataframe tbody tr th:only-of-type {\n",
       "        vertical-align: middle;\n",
       "    }\n",
       "\n",
       "    .dataframe tbody tr th {\n",
       "        vertical-align: top;\n",
       "    }\n",
       "\n",
       "    .dataframe thead th {\n",
       "        text-align: right;\n",
       "    }\n",
       "</style>\n",
       "<table border=\"1\" class=\"dataframe\">\n",
       "  <thead>\n",
       "    <tr style=\"text-align: right;\">\n",
       "      <th></th>\n",
       "      <th>5HT2a-cimbi36-29-beliveau2017</th>\n",
       "      <th>NMDA-ge179-29-galovic2021</th>\n",
       "      <th>mGluR5-abp688-73-smart2019</th>\n",
       "      <th>MU-carfentanil-204-kantonen2020</th>\n",
       "      <th>GABAa-flumazenil-6-dukart2018</th>\n",
       "      <th>5HT1b-p943-65-gallezot2010</th>\n",
       "      <th>D2-raclopride-156-malen2022</th>\n",
       "    </tr>\n",
       "  </thead>\n",
       "  <tbody>\n",
       "    <tr>\n",
       "      <th>mean-cohen(A,B)</th>\n",
       "      <td>0.828</td>\n",
       "      <td>0.25</td>\n",
       "      <td>0.924</td>\n",
       "      <td>0.76</td>\n",
       "      <td>0.138</td>\n",
       "      <td>0.87</td>\n",
       "      <td>0.774</td>\n",
       "    </tr>\n",
       "  </tbody>\n",
       "</table>\n",
       "</div>"
      ],
      "text/plain": [
       "                 5HT2a-cimbi36-29-beliveau2017  NMDA-ge179-29-galovic2021  \\\n",
       "mean-cohen(A,B)                          0.828                       0.25   \n",
       "\n",
       "                 mGluR5-abp688-73-smart2019  MU-carfentanil-204-kantonen2020  \\\n",
       "mean-cohen(A,B)                       0.924                             0.76   \n",
       "\n",
       "                 GABAa-flumazenil-6-dukart2018  5HT1b-p943-65-gallezot2010  \\\n",
       "mean-cohen(A,B)                          0.138                        0.87   \n",
       "\n",
       "                 D2-raclopride-156-malen2022  \n",
       "mean-cohen(A,B)                        0.774  "
      ]
     },
     "metadata": {},
     "output_type": "display_data"
    }
   ],
   "source": [
    "display(juspyce_vol.comparisons[\"cohen(A,B)\"])\n",
    "display(juspyce_vol.predictions[\"cohen(A,B)-dominance_total\"])\n",
    "display(juspyce_vol.p_comparisons[\"cohen(A,B)-dominance_total\"])"
   ]
  },
  {
   "cell_type": "markdown",
   "metadata": {},
   "source": [
    "### Can the individual difference between the individuals of one group relative to the other group (\"reference\") be predicted from a certain transmitter?"
   ]
  },
  {
   "cell_type": "code",
   "execution_count": 10,
   "metadata": {},
   "outputs": [
    {
     "name": "stderr",
     "output_type": "stream",
     "text": [
      "INFO:juspyce.api:Calculating parcelwise z scores for A relative to B: new Y = (Y[A] - mean(Y[B])) / std(Y[B]).\n"
     ]
    },
    {
     "data": {
      "application/vnd.jupyter.widget-view+json": {
       "model_id": "e0425f25c89248b0892b38eae4298f6f",
       "version_major": 2,
       "version_minor": 0
      },
      "text/plain": [
       "Predicting (slr, 8 proc):   0%|          | 0/14 [00:00<?, ?it/s]"
      ]
     },
     "metadata": {},
     "output_type": "display_data"
    },
    {
     "name": "stderr",
     "output_type": "stream",
     "text": [
      "INFO:juspyce.api:Running 'true' group comparison and prediction (comparison = 'z(A,B)', method = 'slr', using mean of predictions).\n",
      "INFO:juspyce.api:Calculating parcelwise z scores for A relative to B: new Y = (Y[A] - mean(Y[B])) / std(Y[B]).\n"
     ]
    },
    {
     "data": {
      "application/vnd.jupyter.widget-view+json": {
       "model_id": "c85c9251ba1848f1bd269374acb11802",
       "version_major": 2,
       "version_minor": 0
      },
      "text/plain": [
       "Predicting (slr, 1 proc):   0%|          | 0/14 [00:00<?, ?it/s]"
      ]
     },
     "metadata": {},
     "output_type": "display_data"
    },
    {
     "name": "stderr",
     "output_type": "stream",
     "text": [
      "INFO:juspyce.api:Running null group comparisons and predictions (comparison = 'z(A,B)', method = 'slr', using mean of predictions).\n"
     ]
    },
    {
     "data": {
      "application/vnd.jupyter.widget-view+json": {
       "model_id": "52b9fd1f28ce449789c3b4014757502c",
       "version_major": 2,
       "version_minor": 0
      },
      "text/plain": [
       "Null comparisons (slr, 8 proc):   0%|          | 0/1000 [00:00<?, ?it/s]"
      ]
     },
     "metadata": {},
     "output_type": "display_data"
    },
    {
     "name": "stderr",
     "output_type": "stream",
     "text": [
      "INFO:juspyce.api:Calculating exact p-values (tails = 'two').\n"
     ]
    }
   ],
   "source": [
    "# compare\n",
    "juspyce_vol.compare(\n",
    "    comparison=\"z(A,B)\", # alternative: diff(A,mean(B))\n",
    "    groups=groups\n",
    ")\n",
    "# predict\n",
    "juspyce_vol.predict(\n",
    "    method=\"slr\",\n",
    "    comparison=\"z(A,B)\"\n",
    ")\n",
    "# permute groups\n",
    "p_data, true_predictions, null_predictions = juspyce_vol.permute_groups(\n",
    "    method=\"slr\", \n",
    "    comparison=\"z(A,B)\", \n",
    "    groups=groups,\n",
    "    n_perm=1000, \n",
    "    p_tail=\"two\",\n",
    "    r_to_z=True, adjust_r2=True, mlr_individual=True,\n",
    "    n_proc=8, n_proc_predict=1, seed=None,\n",
    "    verbose=True, store=True)"
   ]
  },
  {
   "cell_type": "code",
   "execution_count": 11,
   "metadata": {},
   "outputs": [
    {
     "data": {
      "text/html": [
       "<div>\n",
       "<style scoped>\n",
       "    .dataframe tbody tr th:only-of-type {\n",
       "        vertical-align: middle;\n",
       "    }\n",
       "\n",
       "    .dataframe tbody tr th {\n",
       "        vertical-align: top;\n",
       "    }\n",
       "\n",
       "    .dataframe thead th {\n",
       "        text-align: right;\n",
       "    }\n",
       "</style>\n",
       "<table border=\"1\" class=\"dataframe\">\n",
       "  <thead>\n",
       "    <tr style=\"text-align: right;\">\n",
       "      <th></th>\n",
       "      <th>LH_Vis_1</th>\n",
       "      <th>LH_Vis_2</th>\n",
       "      <th>LH_Vis_3</th>\n",
       "      <th>LH_Vis_4</th>\n",
       "      <th>LH_Vis_5</th>\n",
       "      <th>LH_Vis_6</th>\n",
       "      <th>LH_Vis_7</th>\n",
       "      <th>LH_Vis_8</th>\n",
       "      <th>LH_Vis_9</th>\n",
       "      <th>LH_SomMot_1</th>\n",
       "      <th>...</th>\n",
       "      <th>PUT-rh</th>\n",
       "      <th>CAU-rh</th>\n",
       "      <th>HIP-lh</th>\n",
       "      <th>AMY-lh</th>\n",
       "      <th>pTHA-lh</th>\n",
       "      <th>aTHA-lh</th>\n",
       "      <th>NAc-lh</th>\n",
       "      <th>GP-lh</th>\n",
       "      <th>PUT-lh</th>\n",
       "      <th>CAU-lh</th>\n",
       "    </tr>\n",
       "  </thead>\n",
       "  <tbody>\n",
       "    <tr>\n",
       "      <th>control</th>\n",
       "      <td>-1.307879</td>\n",
       "      <td>-0.594600</td>\n",
       "      <td>-1.141572</td>\n",
       "      <td>-0.628870</td>\n",
       "      <td>-0.825993</td>\n",
       "      <td>-1.152819</td>\n",
       "      <td>-1.020215</td>\n",
       "      <td>-0.363459</td>\n",
       "      <td>-0.705579</td>\n",
       "      <td>-0.868137</td>\n",
       "      <td>...</td>\n",
       "      <td>0.199933</td>\n",
       "      <td>0.003804</td>\n",
       "      <td>-0.991716</td>\n",
       "      <td>-0.486386</td>\n",
       "      <td>2.355779</td>\n",
       "      <td>0.727542</td>\n",
       "      <td>-0.693365</td>\n",
       "      <td>0.287516</td>\n",
       "      <td>0.728857</td>\n",
       "      <td>-0.541071</td>\n",
       "    </tr>\n",
       "    <tr>\n",
       "      <th>touch</th>\n",
       "      <td>-0.613116</td>\n",
       "      <td>-0.789268</td>\n",
       "      <td>-0.691663</td>\n",
       "      <td>-0.600602</td>\n",
       "      <td>-0.635929</td>\n",
       "      <td>-0.838796</td>\n",
       "      <td>-0.701211</td>\n",
       "      <td>-0.746437</td>\n",
       "      <td>-1.059448</td>\n",
       "      <td>1.398766</td>\n",
       "      <td>...</td>\n",
       "      <td>-0.288611</td>\n",
       "      <td>-0.591191</td>\n",
       "      <td>-0.654405</td>\n",
       "      <td>-0.340006</td>\n",
       "      <td>0.419474</td>\n",
       "      <td>-0.178740</td>\n",
       "      <td>-0.362638</td>\n",
       "      <td>-0.757782</td>\n",
       "      <td>-0.603605</td>\n",
       "      <td>-0.566459</td>\n",
       "    </tr>\n",
       "    <tr>\n",
       "      <th>interoception</th>\n",
       "      <td>-0.565262</td>\n",
       "      <td>-0.533565</td>\n",
       "      <td>-0.691961</td>\n",
       "      <td>-0.510000</td>\n",
       "      <td>-0.609814</td>\n",
       "      <td>-0.291691</td>\n",
       "      <td>-0.700389</td>\n",
       "      <td>-0.910814</td>\n",
       "      <td>-1.133115</td>\n",
       "      <td>1.075660</td>\n",
       "      <td>...</td>\n",
       "      <td>2.109133</td>\n",
       "      <td>0.376119</td>\n",
       "      <td>-0.193140</td>\n",
       "      <td>0.273506</td>\n",
       "      <td>-0.084488</td>\n",
       "      <td>-0.044081</td>\n",
       "      <td>-0.013891</td>\n",
       "      <td>-0.038620</td>\n",
       "      <td>0.423799</td>\n",
       "      <td>0.087311</td>\n",
       "    </tr>\n",
       "    <tr>\n",
       "      <th>learning</th>\n",
       "      <td>4.066362</td>\n",
       "      <td>-0.050946</td>\n",
       "      <td>0.088384</td>\n",
       "      <td>0.044520</td>\n",
       "      <td>-0.252872</td>\n",
       "      <td>0.029881</td>\n",
       "      <td>-0.408359</td>\n",
       "      <td>-0.086602</td>\n",
       "      <td>-0.356469</td>\n",
       "      <td>-1.045881</td>\n",
       "      <td>...</td>\n",
       "      <td>1.121934</td>\n",
       "      <td>1.796205</td>\n",
       "      <td>4.657692</td>\n",
       "      <td>0.116224</td>\n",
       "      <td>0.316764</td>\n",
       "      <td>1.129707</td>\n",
       "      <td>1.698001</td>\n",
       "      <td>2.003917</td>\n",
       "      <td>2.289148</td>\n",
       "      <td>2.231389</td>\n",
       "    </tr>\n",
       "    <tr>\n",
       "      <th>attention</th>\n",
       "      <td>-1.427004</td>\n",
       "      <td>0.523679</td>\n",
       "      <td>-0.011685</td>\n",
       "      <td>0.774420</td>\n",
       "      <td>0.524566</td>\n",
       "      <td>0.335434</td>\n",
       "      <td>0.616278</td>\n",
       "      <td>1.236984</td>\n",
       "      <td>0.799963</td>\n",
       "      <td>-0.589778</td>\n",
       "      <td>...</td>\n",
       "      <td>-0.692167</td>\n",
       "      <td>-0.723843</td>\n",
       "      <td>-1.684373</td>\n",
       "      <td>-0.897631</td>\n",
       "      <td>-0.964080</td>\n",
       "      <td>-0.792103</td>\n",
       "      <td>-0.799853</td>\n",
       "      <td>-0.942099</td>\n",
       "      <td>-1.109166</td>\n",
       "      <td>-0.802253</td>\n",
       "    </tr>\n",
       "    <tr>\n",
       "      <th>language</th>\n",
       "      <td>-0.146665</td>\n",
       "      <td>-0.459491</td>\n",
       "      <td>-0.937656</td>\n",
       "      <td>-0.060815</td>\n",
       "      <td>-0.775598</td>\n",
       "      <td>-0.535819</td>\n",
       "      <td>0.104261</td>\n",
       "      <td>-0.780245</td>\n",
       "      <td>-0.943557</td>\n",
       "      <td>0.781672</td>\n",
       "      <td>...</td>\n",
       "      <td>-0.431219</td>\n",
       "      <td>0.014725</td>\n",
       "      <td>-0.719105</td>\n",
       "      <td>-0.439441</td>\n",
       "      <td>-1.066447</td>\n",
       "      <td>0.218143</td>\n",
       "      <td>-0.067029</td>\n",
       "      <td>-0.057223</td>\n",
       "      <td>-0.237561</td>\n",
       "      <td>0.183753</td>\n",
       "    </tr>\n",
       "    <tr>\n",
       "      <th>interaction</th>\n",
       "      <td>1.588684</td>\n",
       "      <td>0.411707</td>\n",
       "      <td>-0.020956</td>\n",
       "      <td>0.608337</td>\n",
       "      <td>0.399552</td>\n",
       "      <td>-0.158962</td>\n",
       "      <td>0.096522</td>\n",
       "      <td>0.269134</td>\n",
       "      <td>-0.397154</td>\n",
       "      <td>2.332720</td>\n",
       "      <td>...</td>\n",
       "      <td>-0.099070</td>\n",
       "      <td>-0.410343</td>\n",
       "      <td>1.790933</td>\n",
       "      <td>-0.388418</td>\n",
       "      <td>0.502116</td>\n",
       "      <td>-0.730769</td>\n",
       "      <td>-0.540218</td>\n",
       "      <td>0.018641</td>\n",
       "      <td>0.154270</td>\n",
       "      <td>-0.942372</td>\n",
       "    </tr>\n",
       "    <tr>\n",
       "      <th>inhibition</th>\n",
       "      <td>-1.776383</td>\n",
       "      <td>-0.934862</td>\n",
       "      <td>-1.082668</td>\n",
       "      <td>-0.606090</td>\n",
       "      <td>-0.875604</td>\n",
       "      <td>-1.297595</td>\n",
       "      <td>-0.950768</td>\n",
       "      <td>-0.741533</td>\n",
       "      <td>-1.133768</td>\n",
       "      <td>-0.144606</td>\n",
       "      <td>...</td>\n",
       "      <td>0.155098</td>\n",
       "      <td>0.117653</td>\n",
       "      <td>-1.612033</td>\n",
       "      <td>-0.619051</td>\n",
       "      <td>0.893030</td>\n",
       "      <td>-0.218816</td>\n",
       "      <td>-0.561609</td>\n",
       "      <td>0.288745</td>\n",
       "      <td>0.712089</td>\n",
       "      <td>-0.448295</td>\n",
       "    </tr>\n",
       "    <tr>\n",
       "      <th>somatosensory</th>\n",
       "      <td>-0.634710</td>\n",
       "      <td>-0.844808</td>\n",
       "      <td>-0.712754</td>\n",
       "      <td>-0.607491</td>\n",
       "      <td>-0.666965</td>\n",
       "      <td>-0.788640</td>\n",
       "      <td>-0.751607</td>\n",
       "      <td>-0.809850</td>\n",
       "      <td>-1.116823</td>\n",
       "      <td>1.440507</td>\n",
       "      <td>...</td>\n",
       "      <td>-0.310711</td>\n",
       "      <td>-0.746466</td>\n",
       "      <td>-0.688968</td>\n",
       "      <td>-0.358052</td>\n",
       "      <td>0.021869</td>\n",
       "      <td>-0.405056</td>\n",
       "      <td>-0.331330</td>\n",
       "      <td>-0.837018</td>\n",
       "      <td>-0.614067</td>\n",
       "      <td>-0.564958</td>\n",
       "    </tr>\n",
       "    <tr>\n",
       "      <th>decision</th>\n",
       "      <td>-1.205405</td>\n",
       "      <td>-0.120479</td>\n",
       "      <td>-0.977907</td>\n",
       "      <td>-0.022699</td>\n",
       "      <td>-0.568839</td>\n",
       "      <td>-1.039217</td>\n",
       "      <td>0.389823</td>\n",
       "      <td>-0.314305</td>\n",
       "      <td>-0.858288</td>\n",
       "      <td>-1.368766</td>\n",
       "      <td>...</td>\n",
       "      <td>0.341518</td>\n",
       "      <td>1.978846</td>\n",
       "      <td>-1.570568</td>\n",
       "      <td>-0.500041</td>\n",
       "      <td>-0.669562</td>\n",
       "      <td>1.191916</td>\n",
       "      <td>2.084474</td>\n",
       "      <td>2.056355</td>\n",
       "      <td>1.831413</td>\n",
       "      <td>2.460268</td>\n",
       "    </tr>\n",
       "    <tr>\n",
       "      <th>auditory</th>\n",
       "      <td>-0.146327</td>\n",
       "      <td>-0.852894</td>\n",
       "      <td>-0.652381</td>\n",
       "      <td>-0.475503</td>\n",
       "      <td>-0.489848</td>\n",
       "      <td>-0.449951</td>\n",
       "      <td>-0.786197</td>\n",
       "      <td>-0.883916</td>\n",
       "      <td>-0.473634</td>\n",
       "      <td>5.448485</td>\n",
       "      <td>...</td>\n",
       "      <td>-0.430455</td>\n",
       "      <td>-0.267192</td>\n",
       "      <td>-0.342260</td>\n",
       "      <td>-0.308992</td>\n",
       "      <td>-0.036051</td>\n",
       "      <td>-0.227688</td>\n",
       "      <td>-0.310405</td>\n",
       "      <td>-0.516862</td>\n",
       "      <td>-0.471866</td>\n",
       "      <td>-0.458960</td>\n",
       "    </tr>\n",
       "    <tr>\n",
       "      <th>taste</th>\n",
       "      <td>-0.536536</td>\n",
       "      <td>-0.625404</td>\n",
       "      <td>-0.723228</td>\n",
       "      <td>-0.590764</td>\n",
       "      <td>-0.640778</td>\n",
       "      <td>-0.478578</td>\n",
       "      <td>-0.898848</td>\n",
       "      <td>-0.943611</td>\n",
       "      <td>-1.037030</td>\n",
       "      <td>0.537358</td>\n",
       "      <td>...</td>\n",
       "      <td>1.882242</td>\n",
       "      <td>0.871184</td>\n",
       "      <td>0.047219</td>\n",
       "      <td>0.401571</td>\n",
       "      <td>5.159353</td>\n",
       "      <td>3.810014</td>\n",
       "      <td>0.489707</td>\n",
       "      <td>0.676969</td>\n",
       "      <td>0.782375</td>\n",
       "      <td>0.740689</td>\n",
       "    </tr>\n",
       "    <tr>\n",
       "      <th>metabolism</th>\n",
       "      <td>2.099138</td>\n",
       "      <td>-0.209085</td>\n",
       "      <td>0.297182</td>\n",
       "      <td>-0.579489</td>\n",
       "      <td>-0.473004</td>\n",
       "      <td>0.189828</td>\n",
       "      <td>-0.928439</td>\n",
       "      <td>-0.252963</td>\n",
       "      <td>0.334498</td>\n",
       "      <td>-0.451062</td>\n",
       "      <td>...</td>\n",
       "      <td>0.735715</td>\n",
       "      <td>0.174650</td>\n",
       "      <td>1.727914</td>\n",
       "      <td>-0.214767</td>\n",
       "      <td>7.903778</td>\n",
       "      <td>4.950453</td>\n",
       "      <td>-0.122241</td>\n",
       "      <td>0.193886</td>\n",
       "      <td>0.541902</td>\n",
       "      <td>0.231003</td>\n",
       "    </tr>\n",
       "    <tr>\n",
       "      <th>memory</th>\n",
       "      <td>9.087142</td>\n",
       "      <td>-0.750638</td>\n",
       "      <td>-0.573248</td>\n",
       "      <td>-0.408257</td>\n",
       "      <td>-0.899962</td>\n",
       "      <td>-0.247447</td>\n",
       "      <td>-0.739209</td>\n",
       "      <td>0.152706</td>\n",
       "      <td>1.115015</td>\n",
       "      <td>-0.738309</td>\n",
       "      <td>...</td>\n",
       "      <td>-1.091625</td>\n",
       "      <td>-0.627874</td>\n",
       "      <td>5.800908</td>\n",
       "      <td>0.295105</td>\n",
       "      <td>-0.050840</td>\n",
       "      <td>-0.926195</td>\n",
       "      <td>-0.457122</td>\n",
       "      <td>0.561839</td>\n",
       "      <td>0.173439</td>\n",
       "      <td>0.711913</td>\n",
       "    </tr>\n",
       "  </tbody>\n",
       "</table>\n",
       "<p>14 rows × 116 columns</p>\n",
       "</div>"
      ],
      "text/plain": [
       "               LH_Vis_1  LH_Vis_2  LH_Vis_3  LH_Vis_4  LH_Vis_5  LH_Vis_6  \\\n",
       "control       -1.307879 -0.594600 -1.141572 -0.628870 -0.825993 -1.152819   \n",
       "touch         -0.613116 -0.789268 -0.691663 -0.600602 -0.635929 -0.838796   \n",
       "interoception -0.565262 -0.533565 -0.691961 -0.510000 -0.609814 -0.291691   \n",
       "learning       4.066362 -0.050946  0.088384  0.044520 -0.252872  0.029881   \n",
       "attention     -1.427004  0.523679 -0.011685  0.774420  0.524566  0.335434   \n",
       "language      -0.146665 -0.459491 -0.937656 -0.060815 -0.775598 -0.535819   \n",
       "interaction    1.588684  0.411707 -0.020956  0.608337  0.399552 -0.158962   \n",
       "inhibition    -1.776383 -0.934862 -1.082668 -0.606090 -0.875604 -1.297595   \n",
       "somatosensory -0.634710 -0.844808 -0.712754 -0.607491 -0.666965 -0.788640   \n",
       "decision      -1.205405 -0.120479 -0.977907 -0.022699 -0.568839 -1.039217   \n",
       "auditory      -0.146327 -0.852894 -0.652381 -0.475503 -0.489848 -0.449951   \n",
       "taste         -0.536536 -0.625404 -0.723228 -0.590764 -0.640778 -0.478578   \n",
       "metabolism     2.099138 -0.209085  0.297182 -0.579489 -0.473004  0.189828   \n",
       "memory         9.087142 -0.750638 -0.573248 -0.408257 -0.899962 -0.247447   \n",
       "\n",
       "               LH_Vis_7  LH_Vis_8  LH_Vis_9  LH_SomMot_1  ...    PUT-rh  \\\n",
       "control       -1.020215 -0.363459 -0.705579    -0.868137  ...  0.199933   \n",
       "touch         -0.701211 -0.746437 -1.059448     1.398766  ... -0.288611   \n",
       "interoception -0.700389 -0.910814 -1.133115     1.075660  ...  2.109133   \n",
       "learning      -0.408359 -0.086602 -0.356469    -1.045881  ...  1.121934   \n",
       "attention      0.616278  1.236984  0.799963    -0.589778  ... -0.692167   \n",
       "language       0.104261 -0.780245 -0.943557     0.781672  ... -0.431219   \n",
       "interaction    0.096522  0.269134 -0.397154     2.332720  ... -0.099070   \n",
       "inhibition    -0.950768 -0.741533 -1.133768    -0.144606  ...  0.155098   \n",
       "somatosensory -0.751607 -0.809850 -1.116823     1.440507  ... -0.310711   \n",
       "decision       0.389823 -0.314305 -0.858288    -1.368766  ...  0.341518   \n",
       "auditory      -0.786197 -0.883916 -0.473634     5.448485  ... -0.430455   \n",
       "taste         -0.898848 -0.943611 -1.037030     0.537358  ...  1.882242   \n",
       "metabolism    -0.928439 -0.252963  0.334498    -0.451062  ...  0.735715   \n",
       "memory        -0.739209  0.152706  1.115015    -0.738309  ... -1.091625   \n",
       "\n",
       "                 CAU-rh    HIP-lh    AMY-lh   pTHA-lh   aTHA-lh    NAc-lh  \\\n",
       "control        0.003804 -0.991716 -0.486386  2.355779  0.727542 -0.693365   \n",
       "touch         -0.591191 -0.654405 -0.340006  0.419474 -0.178740 -0.362638   \n",
       "interoception  0.376119 -0.193140  0.273506 -0.084488 -0.044081 -0.013891   \n",
       "learning       1.796205  4.657692  0.116224  0.316764  1.129707  1.698001   \n",
       "attention     -0.723843 -1.684373 -0.897631 -0.964080 -0.792103 -0.799853   \n",
       "language       0.014725 -0.719105 -0.439441 -1.066447  0.218143 -0.067029   \n",
       "interaction   -0.410343  1.790933 -0.388418  0.502116 -0.730769 -0.540218   \n",
       "inhibition     0.117653 -1.612033 -0.619051  0.893030 -0.218816 -0.561609   \n",
       "somatosensory -0.746466 -0.688968 -0.358052  0.021869 -0.405056 -0.331330   \n",
       "decision       1.978846 -1.570568 -0.500041 -0.669562  1.191916  2.084474   \n",
       "auditory      -0.267192 -0.342260 -0.308992 -0.036051 -0.227688 -0.310405   \n",
       "taste          0.871184  0.047219  0.401571  5.159353  3.810014  0.489707   \n",
       "metabolism     0.174650  1.727914 -0.214767  7.903778  4.950453 -0.122241   \n",
       "memory        -0.627874  5.800908  0.295105 -0.050840 -0.926195 -0.457122   \n",
       "\n",
       "                  GP-lh    PUT-lh    CAU-lh  \n",
       "control        0.287516  0.728857 -0.541071  \n",
       "touch         -0.757782 -0.603605 -0.566459  \n",
       "interoception -0.038620  0.423799  0.087311  \n",
       "learning       2.003917  2.289148  2.231389  \n",
       "attention     -0.942099 -1.109166 -0.802253  \n",
       "language      -0.057223 -0.237561  0.183753  \n",
       "interaction    0.018641  0.154270 -0.942372  \n",
       "inhibition     0.288745  0.712089 -0.448295  \n",
       "somatosensory -0.837018 -0.614067 -0.564958  \n",
       "decision       2.056355  1.831413  2.460268  \n",
       "auditory      -0.516862 -0.471866 -0.458960  \n",
       "taste          0.676969  0.782375  0.740689  \n",
       "metabolism     0.193886  0.541902  0.231003  \n",
       "memory         0.561839  0.173439  0.711913  \n",
       "\n",
       "[14 rows x 116 columns]"
      ]
     },
     "metadata": {},
     "output_type": "display_data"
    },
    {
     "data": {
      "text/html": [
       "<div>\n",
       "<style scoped>\n",
       "    .dataframe tbody tr th:only-of-type {\n",
       "        vertical-align: middle;\n",
       "    }\n",
       "\n",
       "    .dataframe tbody tr th {\n",
       "        vertical-align: top;\n",
       "    }\n",
       "\n",
       "    .dataframe thead th {\n",
       "        text-align: right;\n",
       "    }\n",
       "</style>\n",
       "<table border=\"1\" class=\"dataframe\">\n",
       "  <thead>\n",
       "    <tr style=\"text-align: right;\">\n",
       "      <th></th>\n",
       "      <th>5HT2a-cimbi36-29-beliveau2017</th>\n",
       "      <th>NMDA-ge179-29-galovic2021</th>\n",
       "      <th>mGluR5-abp688-73-smart2019</th>\n",
       "      <th>MU-carfentanil-204-kantonen2020</th>\n",
       "      <th>GABAa-flumazenil-6-dukart2018</th>\n",
       "      <th>5HT1b-p943-65-gallezot2010</th>\n",
       "      <th>D2-raclopride-156-malen2022</th>\n",
       "    </tr>\n",
       "  </thead>\n",
       "  <tbody>\n",
       "    <tr>\n",
       "      <th>control</th>\n",
       "      <td>0.125241</td>\n",
       "      <td>0.002638</td>\n",
       "      <td>0.006781</td>\n",
       "      <td>-0.005710</td>\n",
       "      <td>0.129969</td>\n",
       "      <td>0.011245</td>\n",
       "      <td>-0.008132</td>\n",
       "    </tr>\n",
       "    <tr>\n",
       "      <th>touch</th>\n",
       "      <td>0.015636</td>\n",
       "      <td>0.034241</td>\n",
       "      <td>0.016508</td>\n",
       "      <td>-0.007284</td>\n",
       "      <td>0.000147</td>\n",
       "      <td>-0.002892</td>\n",
       "      <td>0.013234</td>\n",
       "    </tr>\n",
       "    <tr>\n",
       "      <th>interoception</th>\n",
       "      <td>-0.006167</td>\n",
       "      <td>0.097305</td>\n",
       "      <td>0.120509</td>\n",
       "      <td>0.128111</td>\n",
       "      <td>-0.001383</td>\n",
       "      <td>0.010386</td>\n",
       "      <td>0.036733</td>\n",
       "    </tr>\n",
       "    <tr>\n",
       "      <th>learning</th>\n",
       "      <td>0.181452</td>\n",
       "      <td>0.128790</td>\n",
       "      <td>0.140292</td>\n",
       "      <td>0.015167</td>\n",
       "      <td>0.116469</td>\n",
       "      <td>0.023274</td>\n",
       "      <td>0.187581</td>\n",
       "    </tr>\n",
       "    <tr>\n",
       "      <th>attention</th>\n",
       "      <td>0.018280</td>\n",
       "      <td>0.129350</td>\n",
       "      <td>0.001140</td>\n",
       "      <td>0.117117</td>\n",
       "      <td>0.010131</td>\n",
       "      <td>0.039305</td>\n",
       "      <td>0.044785</td>\n",
       "    </tr>\n",
       "    <tr>\n",
       "      <th>language</th>\n",
       "      <td>0.084490</td>\n",
       "      <td>0.003728</td>\n",
       "      <td>0.013689</td>\n",
       "      <td>-0.005320</td>\n",
       "      <td>0.001832</td>\n",
       "      <td>0.022813</td>\n",
       "      <td>-0.003438</td>\n",
       "    </tr>\n",
       "    <tr>\n",
       "      <th>interaction</th>\n",
       "      <td>0.010914</td>\n",
       "      <td>-0.003194</td>\n",
       "      <td>0.002423</td>\n",
       "      <td>0.060424</td>\n",
       "      <td>-0.008647</td>\n",
       "      <td>-0.003723</td>\n",
       "      <td>-0.008387</td>\n",
       "    </tr>\n",
       "    <tr>\n",
       "      <th>inhibition</th>\n",
       "      <td>0.063814</td>\n",
       "      <td>0.014400</td>\n",
       "      <td>-0.008047</td>\n",
       "      <td>-0.006604</td>\n",
       "      <td>0.060887</td>\n",
       "      <td>0.045397</td>\n",
       "      <td>-0.008019</td>\n",
       "    </tr>\n",
       "    <tr>\n",
       "      <th>somatosensory</th>\n",
       "      <td>0.004329</td>\n",
       "      <td>0.046277</td>\n",
       "      <td>0.031009</td>\n",
       "      <td>-0.006691</td>\n",
       "      <td>-0.005629</td>\n",
       "      <td>-0.006262</td>\n",
       "      <td>0.017461</td>\n",
       "    </tr>\n",
       "    <tr>\n",
       "      <th>decision</th>\n",
       "      <td>-0.003941</td>\n",
       "      <td>-0.005390</td>\n",
       "      <td>-0.007605</td>\n",
       "      <td>0.133210</td>\n",
       "      <td>0.063178</td>\n",
       "      <td>0.178575</td>\n",
       "      <td>0.126534</td>\n",
       "    </tr>\n",
       "    <tr>\n",
       "      <th>auditory</th>\n",
       "      <td>0.058666</td>\n",
       "      <td>-0.006597</td>\n",
       "      <td>0.089749</td>\n",
       "      <td>-0.007093</td>\n",
       "      <td>0.031579</td>\n",
       "      <td>-0.002583</td>\n",
       "      <td>-0.001564</td>\n",
       "    </tr>\n",
       "    <tr>\n",
       "      <th>taste</th>\n",
       "      <td>0.106582</td>\n",
       "      <td>0.423982</td>\n",
       "      <td>0.009805</td>\n",
       "      <td>0.353302</td>\n",
       "      <td>0.137796</td>\n",
       "      <td>0.007520</td>\n",
       "      <td>0.091896</td>\n",
       "    </tr>\n",
       "    <tr>\n",
       "      <th>metabolism</th>\n",
       "      <td>0.200197</td>\n",
       "      <td>0.289257</td>\n",
       "      <td>0.182241</td>\n",
       "      <td>0.065164</td>\n",
       "      <td>0.183271</td>\n",
       "      <td>0.204697</td>\n",
       "      <td>0.007533</td>\n",
       "    </tr>\n",
       "    <tr>\n",
       "      <th>memory</th>\n",
       "      <td>-0.005246</td>\n",
       "      <td>-0.002919</td>\n",
       "      <td>0.001739</td>\n",
       "      <td>-0.004024</td>\n",
       "      <td>-0.003670</td>\n",
       "      <td>0.029054</td>\n",
       "      <td>0.000351</td>\n",
       "    </tr>\n",
       "  </tbody>\n",
       "</table>\n",
       "</div>"
      ],
      "text/plain": [
       "               5HT2a-cimbi36-29-beliveau2017  NMDA-ge179-29-galovic2021  \\\n",
       "control                             0.125241                   0.002638   \n",
       "touch                               0.015636                   0.034241   \n",
       "interoception                      -0.006167                   0.097305   \n",
       "learning                            0.181452                   0.128790   \n",
       "attention                           0.018280                   0.129350   \n",
       "language                            0.084490                   0.003728   \n",
       "interaction                         0.010914                  -0.003194   \n",
       "inhibition                          0.063814                   0.014400   \n",
       "somatosensory                       0.004329                   0.046277   \n",
       "decision                           -0.003941                  -0.005390   \n",
       "auditory                            0.058666                  -0.006597   \n",
       "taste                               0.106582                   0.423982   \n",
       "metabolism                          0.200197                   0.289257   \n",
       "memory                             -0.005246                  -0.002919   \n",
       "\n",
       "               mGluR5-abp688-73-smart2019  MU-carfentanil-204-kantonen2020  \\\n",
       "control                          0.006781                        -0.005710   \n",
       "touch                            0.016508                        -0.007284   \n",
       "interoception                    0.120509                         0.128111   \n",
       "learning                         0.140292                         0.015167   \n",
       "attention                        0.001140                         0.117117   \n",
       "language                         0.013689                        -0.005320   \n",
       "interaction                      0.002423                         0.060424   \n",
       "inhibition                      -0.008047                        -0.006604   \n",
       "somatosensory                    0.031009                        -0.006691   \n",
       "decision                        -0.007605                         0.133210   \n",
       "auditory                         0.089749                        -0.007093   \n",
       "taste                            0.009805                         0.353302   \n",
       "metabolism                       0.182241                         0.065164   \n",
       "memory                           0.001739                        -0.004024   \n",
       "\n",
       "               GABAa-flumazenil-6-dukart2018  5HT1b-p943-65-gallezot2010  \\\n",
       "control                             0.129969                    0.011245   \n",
       "touch                               0.000147                   -0.002892   \n",
       "interoception                      -0.001383                    0.010386   \n",
       "learning                            0.116469                    0.023274   \n",
       "attention                           0.010131                    0.039305   \n",
       "language                            0.001832                    0.022813   \n",
       "interaction                        -0.008647                   -0.003723   \n",
       "inhibition                          0.060887                    0.045397   \n",
       "somatosensory                      -0.005629                   -0.006262   \n",
       "decision                            0.063178                    0.178575   \n",
       "auditory                            0.031579                   -0.002583   \n",
       "taste                               0.137796                    0.007520   \n",
       "metabolism                          0.183271                    0.204697   \n",
       "memory                             -0.003670                    0.029054   \n",
       "\n",
       "               D2-raclopride-156-malen2022  \n",
       "control                          -0.008132  \n",
       "touch                             0.013234  \n",
       "interoception                     0.036733  \n",
       "learning                          0.187581  \n",
       "attention                         0.044785  \n",
       "language                         -0.003438  \n",
       "interaction                      -0.008387  \n",
       "inhibition                       -0.008019  \n",
       "somatosensory                     0.017461  \n",
       "decision                          0.126534  \n",
       "auditory                         -0.001564  \n",
       "taste                             0.091896  \n",
       "metabolism                        0.007533  \n",
       "memory                            0.000351  "
      ]
     },
     "metadata": {},
     "output_type": "display_data"
    },
    {
     "data": {
      "text/html": [
       "<div>\n",
       "<style scoped>\n",
       "    .dataframe tbody tr th:only-of-type {\n",
       "        vertical-align: middle;\n",
       "    }\n",
       "\n",
       "    .dataframe tbody tr th {\n",
       "        vertical-align: top;\n",
       "    }\n",
       "\n",
       "    .dataframe thead th {\n",
       "        text-align: right;\n",
       "    }\n",
       "</style>\n",
       "<table border=\"1\" class=\"dataframe\">\n",
       "  <thead>\n",
       "    <tr style=\"text-align: right;\">\n",
       "      <th></th>\n",
       "      <th>5HT2a-cimbi36-29-beliveau2017</th>\n",
       "      <th>NMDA-ge179-29-galovic2021</th>\n",
       "      <th>mGluR5-abp688-73-smart2019</th>\n",
       "      <th>MU-carfentanil-204-kantonen2020</th>\n",
       "      <th>GABAa-flumazenil-6-dukart2018</th>\n",
       "      <th>5HT1b-p943-65-gallezot2010</th>\n",
       "      <th>D2-raclopride-156-malen2022</th>\n",
       "    </tr>\n",
       "  </thead>\n",
       "  <tbody>\n",
       "    <tr>\n",
       "      <th>mean-z(A,B)</th>\n",
       "      <td>0.68</td>\n",
       "      <td>0.634</td>\n",
       "      <td>0.818</td>\n",
       "      <td>0.036</td>\n",
       "      <td>0.71</td>\n",
       "      <td>0.096</td>\n",
       "      <td>0.368</td>\n",
       "    </tr>\n",
       "  </tbody>\n",
       "</table>\n",
       "</div>"
      ],
      "text/plain": [
       "             5HT2a-cimbi36-29-beliveau2017  NMDA-ge179-29-galovic2021  \\\n",
       "mean-z(A,B)                           0.68                      0.634   \n",
       "\n",
       "             mGluR5-abp688-73-smart2019  MU-carfentanil-204-kantonen2020  \\\n",
       "mean-z(A,B)                       0.818                            0.036   \n",
       "\n",
       "             GABAa-flumazenil-6-dukart2018  5HT1b-p943-65-gallezot2010  \\\n",
       "mean-z(A,B)                           0.71                       0.096   \n",
       "\n",
       "             D2-raclopride-156-malen2022  \n",
       "mean-z(A,B)                        0.368  "
      ]
     },
     "metadata": {},
     "output_type": "display_data"
    }
   ],
   "source": [
    "display(juspyce_vol.comparisons[\"z(A,B)\"])\n",
    "display(juspyce_vol.predictions[\"z(A,B)-slr\"])\n",
    "display(juspyce_vol.p_comparisons[\"z(A,B)-slr\"])"
   ]
  },
  {
   "cell_type": "markdown",
   "metadata": {},
   "source": [
    "## Correct p-values\n",
    "\n",
    "p values can be corrected across dataframes or rows/columns of dataframes using `JuSpyce.correct_p()`. The method will, if not provided differently, loop over all p-value dataframes and apply multiple comparison correction methods from `statsmodels.stats.multitest.multipletests`.\n",
    "\n",
    "Results will be stored in the `JuSpyce.p_comparisons` dict as `JuSpyce.p_comparisons[\"comparison_name-prediction_name--correction_method\"]`, e.g., if comparison is `cohen(A,B)`, method is `spearman` and correction is `fdr_bh`: `juspyce_vol.p_predictions[\"cohen(A,B)-spearman--fdr_bh\"]`"
   ]
  },
  {
   "cell_type": "code",
   "execution_count": 12,
   "metadata": {},
   "outputs": [
    {
     "data": {
      "text/plain": [
       "'diff(mean(A),mean(B))-spearman'"
      ]
     },
     "metadata": {},
     "output_type": "display_data"
    },
    {
     "data": {
      "text/html": [
       "<div>\n",
       "<style scoped>\n",
       "    .dataframe tbody tr th:only-of-type {\n",
       "        vertical-align: middle;\n",
       "    }\n",
       "\n",
       "    .dataframe tbody tr th {\n",
       "        vertical-align: top;\n",
       "    }\n",
       "\n",
       "    .dataframe thead th {\n",
       "        text-align: right;\n",
       "    }\n",
       "</style>\n",
       "<table border=\"1\" class=\"dataframe\">\n",
       "  <thead>\n",
       "    <tr style=\"text-align: right;\">\n",
       "      <th></th>\n",
       "      <th>5HT2a-cimbi36-29-beliveau2017</th>\n",
       "      <th>NMDA-ge179-29-galovic2021</th>\n",
       "      <th>mGluR5-abp688-73-smart2019</th>\n",
       "      <th>MU-carfentanil-204-kantonen2020</th>\n",
       "      <th>GABAa-flumazenil-6-dukart2018</th>\n",
       "      <th>5HT1b-p943-65-gallezot2010</th>\n",
       "      <th>D2-raclopride-156-malen2022</th>\n",
       "    </tr>\n",
       "  </thead>\n",
       "  <tbody>\n",
       "    <tr>\n",
       "      <th>mean-diff(mean(A),mean(B))</th>\n",
       "      <td>0.304</td>\n",
       "      <td>0.736</td>\n",
       "      <td>0.796</td>\n",
       "      <td>0.598</td>\n",
       "      <td>0.228</td>\n",
       "      <td>0.684</td>\n",
       "      <td>0.786</td>\n",
       "    </tr>\n",
       "  </tbody>\n",
       "</table>\n",
       "</div>"
      ],
      "text/plain": [
       "                            5HT2a-cimbi36-29-beliveau2017  \\\n",
       "mean-diff(mean(A),mean(B))                          0.304   \n",
       "\n",
       "                            NMDA-ge179-29-galovic2021  \\\n",
       "mean-diff(mean(A),mean(B))                      0.736   \n",
       "\n",
       "                            mGluR5-abp688-73-smart2019  \\\n",
       "mean-diff(mean(A),mean(B))                       0.796   \n",
       "\n",
       "                            MU-carfentanil-204-kantonen2020  \\\n",
       "mean-diff(mean(A),mean(B))                            0.598   \n",
       "\n",
       "                            GABAa-flumazenil-6-dukart2018  \\\n",
       "mean-diff(mean(A),mean(B))                          0.228   \n",
       "\n",
       "                            5HT1b-p943-65-gallezot2010  \\\n",
       "mean-diff(mean(A),mean(B))                       0.684   \n",
       "\n",
       "                            D2-raclopride-156-malen2022  \n",
       "mean-diff(mean(A),mean(B))                        0.786  "
      ]
     },
     "metadata": {},
     "output_type": "display_data"
    },
    {
     "data": {
      "text/plain": [
       "'cohen(A,B)-dominance_total'"
      ]
     },
     "metadata": {},
     "output_type": "display_data"
    },
    {
     "data": {
      "text/html": [
       "<div>\n",
       "<style scoped>\n",
       "    .dataframe tbody tr th:only-of-type {\n",
       "        vertical-align: middle;\n",
       "    }\n",
       "\n",
       "    .dataframe tbody tr th {\n",
       "        vertical-align: top;\n",
       "    }\n",
       "\n",
       "    .dataframe thead th {\n",
       "        text-align: right;\n",
       "    }\n",
       "</style>\n",
       "<table border=\"1\" class=\"dataframe\">\n",
       "  <thead>\n",
       "    <tr style=\"text-align: right;\">\n",
       "      <th></th>\n",
       "      <th>5HT2a-cimbi36-29-beliveau2017</th>\n",
       "      <th>NMDA-ge179-29-galovic2021</th>\n",
       "      <th>mGluR5-abp688-73-smart2019</th>\n",
       "      <th>MU-carfentanil-204-kantonen2020</th>\n",
       "      <th>GABAa-flumazenil-6-dukart2018</th>\n",
       "      <th>5HT1b-p943-65-gallezot2010</th>\n",
       "      <th>D2-raclopride-156-malen2022</th>\n",
       "    </tr>\n",
       "  </thead>\n",
       "  <tbody>\n",
       "    <tr>\n",
       "      <th>mean-cohen(A,B)</th>\n",
       "      <td>0.828</td>\n",
       "      <td>0.25</td>\n",
       "      <td>0.924</td>\n",
       "      <td>0.76</td>\n",
       "      <td>0.138</td>\n",
       "      <td>0.87</td>\n",
       "      <td>0.774</td>\n",
       "    </tr>\n",
       "  </tbody>\n",
       "</table>\n",
       "</div>"
      ],
      "text/plain": [
       "                 5HT2a-cimbi36-29-beliveau2017  NMDA-ge179-29-galovic2021  \\\n",
       "mean-cohen(A,B)                          0.828                       0.25   \n",
       "\n",
       "                 mGluR5-abp688-73-smart2019  MU-carfentanil-204-kantonen2020  \\\n",
       "mean-cohen(A,B)                       0.924                             0.76   \n",
       "\n",
       "                 GABAa-flumazenil-6-dukart2018  5HT1b-p943-65-gallezot2010  \\\n",
       "mean-cohen(A,B)                          0.138                        0.87   \n",
       "\n",
       "                 D2-raclopride-156-malen2022  \n",
       "mean-cohen(A,B)                        0.774  "
      ]
     },
     "metadata": {},
     "output_type": "display_data"
    },
    {
     "data": {
      "text/plain": [
       "'cohen(A,B)-dominance_individual'"
      ]
     },
     "metadata": {},
     "output_type": "display_data"
    },
    {
     "data": {
      "text/html": [
       "<div>\n",
       "<style scoped>\n",
       "    .dataframe tbody tr th:only-of-type {\n",
       "        vertical-align: middle;\n",
       "    }\n",
       "\n",
       "    .dataframe tbody tr th {\n",
       "        vertical-align: top;\n",
       "    }\n",
       "\n",
       "    .dataframe thead th {\n",
       "        text-align: right;\n",
       "    }\n",
       "</style>\n",
       "<table border=\"1\" class=\"dataframe\">\n",
       "  <thead>\n",
       "    <tr style=\"text-align: right;\">\n",
       "      <th></th>\n",
       "      <th>5HT2a-cimbi36-29-beliveau2017</th>\n",
       "      <th>NMDA-ge179-29-galovic2021</th>\n",
       "      <th>mGluR5-abp688-73-smart2019</th>\n",
       "      <th>MU-carfentanil-204-kantonen2020</th>\n",
       "      <th>GABAa-flumazenil-6-dukart2018</th>\n",
       "      <th>5HT1b-p943-65-gallezot2010</th>\n",
       "      <th>D2-raclopride-156-malen2022</th>\n",
       "    </tr>\n",
       "  </thead>\n",
       "  <tbody>\n",
       "    <tr>\n",
       "      <th>mean-cohen(A,B)</th>\n",
       "      <td>0.544</td>\n",
       "      <td>0.694</td>\n",
       "      <td>0.016</td>\n",
       "      <td>0.982</td>\n",
       "      <td>0.294</td>\n",
       "      <td>0.432</td>\n",
       "      <td>0.788</td>\n",
       "    </tr>\n",
       "  </tbody>\n",
       "</table>\n",
       "</div>"
      ],
      "text/plain": [
       "                 5HT2a-cimbi36-29-beliveau2017  NMDA-ge179-29-galovic2021  \\\n",
       "mean-cohen(A,B)                          0.544                      0.694   \n",
       "\n",
       "                 mGluR5-abp688-73-smart2019  MU-carfentanil-204-kantonen2020  \\\n",
       "mean-cohen(A,B)                       0.016                            0.982   \n",
       "\n",
       "                 GABAa-flumazenil-6-dukart2018  5HT1b-p943-65-gallezot2010  \\\n",
       "mean-cohen(A,B)                          0.294                       0.432   \n",
       "\n",
       "                 D2-raclopride-156-malen2022  \n",
       "mean-cohen(A,B)                        0.788  "
      ]
     },
     "metadata": {},
     "output_type": "display_data"
    },
    {
     "data": {
      "text/plain": [
       "'cohen(A,B)-dominance_relative'"
      ]
     },
     "metadata": {},
     "output_type": "display_data"
    },
    {
     "data": {
      "text/html": [
       "<div>\n",
       "<style scoped>\n",
       "    .dataframe tbody tr th:only-of-type {\n",
       "        vertical-align: middle;\n",
       "    }\n",
       "\n",
       "    .dataframe tbody tr th {\n",
       "        vertical-align: top;\n",
       "    }\n",
       "\n",
       "    .dataframe thead th {\n",
       "        text-align: right;\n",
       "    }\n",
       "</style>\n",
       "<table border=\"1\" class=\"dataframe\">\n",
       "  <thead>\n",
       "    <tr style=\"text-align: right;\">\n",
       "      <th></th>\n",
       "      <th>5HT2a-cimbi36-29-beliveau2017</th>\n",
       "      <th>NMDA-ge179-29-galovic2021</th>\n",
       "      <th>mGluR5-abp688-73-smart2019</th>\n",
       "      <th>MU-carfentanil-204-kantonen2020</th>\n",
       "      <th>GABAa-flumazenil-6-dukart2018</th>\n",
       "      <th>5HT1b-p943-65-gallezot2010</th>\n",
       "      <th>D2-raclopride-156-malen2022</th>\n",
       "    </tr>\n",
       "  </thead>\n",
       "  <tbody>\n",
       "    <tr>\n",
       "      <th>mean-cohen(A,B)</th>\n",
       "      <td>0.64</td>\n",
       "      <td>0.256</td>\n",
       "      <td>0.908</td>\n",
       "      <td>0.864</td>\n",
       "      <td>0.008</td>\n",
       "      <td>0.952</td>\n",
       "      <td>0.998</td>\n",
       "    </tr>\n",
       "  </tbody>\n",
       "</table>\n",
       "</div>"
      ],
      "text/plain": [
       "                 5HT2a-cimbi36-29-beliveau2017  NMDA-ge179-29-galovic2021  \\\n",
       "mean-cohen(A,B)                           0.64                      0.256   \n",
       "\n",
       "                 mGluR5-abp688-73-smart2019  MU-carfentanil-204-kantonen2020  \\\n",
       "mean-cohen(A,B)                       0.908                            0.864   \n",
       "\n",
       "                 GABAa-flumazenil-6-dukart2018  5HT1b-p943-65-gallezot2010  \\\n",
       "mean-cohen(A,B)                          0.008                       0.952   \n",
       "\n",
       "                 D2-raclopride-156-malen2022  \n",
       "mean-cohen(A,B)                        0.998  "
      ]
     },
     "metadata": {},
     "output_type": "display_data"
    },
    {
     "data": {
      "text/plain": [
       "'cohen(A,B)-dominance_full_r2'"
      ]
     },
     "metadata": {},
     "output_type": "display_data"
    },
    {
     "data": {
      "text/html": [
       "<div>\n",
       "<style scoped>\n",
       "    .dataframe tbody tr th:only-of-type {\n",
       "        vertical-align: middle;\n",
       "    }\n",
       "\n",
       "    .dataframe tbody tr th {\n",
       "        vertical-align: top;\n",
       "    }\n",
       "\n",
       "    .dataframe thead th {\n",
       "        text-align: right;\n",
       "    }\n",
       "</style>\n",
       "<table border=\"1\" class=\"dataframe\">\n",
       "  <thead>\n",
       "    <tr style=\"text-align: right;\">\n",
       "      <th></th>\n",
       "      <th>dominance_full_r2</th>\n",
       "    </tr>\n",
       "  </thead>\n",
       "  <tbody>\n",
       "    <tr>\n",
       "      <th>mean-cohen(A,B)</th>\n",
       "      <td>0.504</td>\n",
       "    </tr>\n",
       "  </tbody>\n",
       "</table>\n",
       "</div>"
      ],
      "text/plain": [
       "                 dominance_full_r2\n",
       "mean-cohen(A,B)              0.504"
      ]
     },
     "metadata": {},
     "output_type": "display_data"
    },
    {
     "data": {
      "text/plain": [
       "'z(A,B)-slr'"
      ]
     },
     "metadata": {},
     "output_type": "display_data"
    },
    {
     "data": {
      "text/html": [
       "<div>\n",
       "<style scoped>\n",
       "    .dataframe tbody tr th:only-of-type {\n",
       "        vertical-align: middle;\n",
       "    }\n",
       "\n",
       "    .dataframe tbody tr th {\n",
       "        vertical-align: top;\n",
       "    }\n",
       "\n",
       "    .dataframe thead th {\n",
       "        text-align: right;\n",
       "    }\n",
       "</style>\n",
       "<table border=\"1\" class=\"dataframe\">\n",
       "  <thead>\n",
       "    <tr style=\"text-align: right;\">\n",
       "      <th></th>\n",
       "      <th>5HT2a-cimbi36-29-beliveau2017</th>\n",
       "      <th>NMDA-ge179-29-galovic2021</th>\n",
       "      <th>mGluR5-abp688-73-smart2019</th>\n",
       "      <th>MU-carfentanil-204-kantonen2020</th>\n",
       "      <th>GABAa-flumazenil-6-dukart2018</th>\n",
       "      <th>5HT1b-p943-65-gallezot2010</th>\n",
       "      <th>D2-raclopride-156-malen2022</th>\n",
       "    </tr>\n",
       "  </thead>\n",
       "  <tbody>\n",
       "    <tr>\n",
       "      <th>mean-z(A,B)</th>\n",
       "      <td>0.68</td>\n",
       "      <td>0.634</td>\n",
       "      <td>0.818</td>\n",
       "      <td>0.036</td>\n",
       "      <td>0.71</td>\n",
       "      <td>0.096</td>\n",
       "      <td>0.368</td>\n",
       "    </tr>\n",
       "  </tbody>\n",
       "</table>\n",
       "</div>"
      ],
      "text/plain": [
       "             5HT2a-cimbi36-29-beliveau2017  NMDA-ge179-29-galovic2021  \\\n",
       "mean-z(A,B)                           0.68                      0.634   \n",
       "\n",
       "             mGluR5-abp688-73-smart2019  MU-carfentanil-204-kantonen2020  \\\n",
       "mean-z(A,B)                       0.818                            0.036   \n",
       "\n",
       "             GABAa-flumazenil-6-dukart2018  5HT1b-p943-65-gallezot2010  \\\n",
       "mean-z(A,B)                           0.71                       0.096   \n",
       "\n",
       "             D2-raclopride-156-malen2022  \n",
       "mean-z(A,B)                        0.368  "
      ]
     },
     "metadata": {},
     "output_type": "display_data"
    },
    {
     "data": {
      "text/plain": [
       "'cohen(A,B)-dominance_relative--fdr_bh'"
      ]
     },
     "metadata": {},
     "output_type": "display_data"
    },
    {
     "data": {
      "text/html": [
       "<div>\n",
       "<style scoped>\n",
       "    .dataframe tbody tr th:only-of-type {\n",
       "        vertical-align: middle;\n",
       "    }\n",
       "\n",
       "    .dataframe tbody tr th {\n",
       "        vertical-align: top;\n",
       "    }\n",
       "\n",
       "    .dataframe thead th {\n",
       "        text-align: right;\n",
       "    }\n",
       "</style>\n",
       "<table border=\"1\" class=\"dataframe\">\n",
       "  <thead>\n",
       "    <tr style=\"text-align: right;\">\n",
       "      <th></th>\n",
       "      <th>5HT2a-cimbi36-29-beliveau2017</th>\n",
       "      <th>NMDA-ge179-29-galovic2021</th>\n",
       "      <th>mGluR5-abp688-73-smart2019</th>\n",
       "      <th>MU-carfentanil-204-kantonen2020</th>\n",
       "      <th>GABAa-flumazenil-6-dukart2018</th>\n",
       "      <th>5HT1b-p943-65-gallezot2010</th>\n",
       "      <th>D2-raclopride-156-malen2022</th>\n",
       "    </tr>\n",
       "  </thead>\n",
       "  <tbody>\n",
       "    <tr>\n",
       "      <th>mean-cohen(A,B)</th>\n",
       "      <td>0.998</td>\n",
       "      <td>0.896</td>\n",
       "      <td>0.998</td>\n",
       "      <td>0.998</td>\n",
       "      <td>0.056</td>\n",
       "      <td>0.998</td>\n",
       "      <td>0.998</td>\n",
       "    </tr>\n",
       "  </tbody>\n",
       "</table>\n",
       "</div>"
      ],
      "text/plain": [
       "                 5HT2a-cimbi36-29-beliveau2017  NMDA-ge179-29-galovic2021  \\\n",
       "mean-cohen(A,B)                          0.998                      0.896   \n",
       "\n",
       "                 mGluR5-abp688-73-smart2019  MU-carfentanil-204-kantonen2020  \\\n",
       "mean-cohen(A,B)                       0.998                            0.998   \n",
       "\n",
       "                 GABAa-flumazenil-6-dukart2018  5HT1b-p943-65-gallezot2010  \\\n",
       "mean-cohen(A,B)                          0.056                       0.998   \n",
       "\n",
       "                 D2-raclopride-156-malen2022  \n",
       "mean-cohen(A,B)                        0.998  "
      ]
     },
     "metadata": {},
     "output_type": "display_data"
    },
    {
     "data": {
      "text/plain": [
       "'diff(mean(A),mean(B))-spearman--fdr_bh'"
      ]
     },
     "metadata": {},
     "output_type": "display_data"
    },
    {
     "data": {
      "text/html": [
       "<div>\n",
       "<style scoped>\n",
       "    .dataframe tbody tr th:only-of-type {\n",
       "        vertical-align: middle;\n",
       "    }\n",
       "\n",
       "    .dataframe tbody tr th {\n",
       "        vertical-align: top;\n",
       "    }\n",
       "\n",
       "    .dataframe thead th {\n",
       "        text-align: right;\n",
       "    }\n",
       "</style>\n",
       "<table border=\"1\" class=\"dataframe\">\n",
       "  <thead>\n",
       "    <tr style=\"text-align: right;\">\n",
       "      <th></th>\n",
       "      <th>5HT2a-cimbi36-29-beliveau2017</th>\n",
       "      <th>NMDA-ge179-29-galovic2021</th>\n",
       "      <th>mGluR5-abp688-73-smart2019</th>\n",
       "      <th>MU-carfentanil-204-kantonen2020</th>\n",
       "      <th>GABAa-flumazenil-6-dukart2018</th>\n",
       "      <th>5HT1b-p943-65-gallezot2010</th>\n",
       "      <th>D2-raclopride-156-malen2022</th>\n",
       "    </tr>\n",
       "  </thead>\n",
       "  <tbody>\n",
       "    <tr>\n",
       "      <th>mean-diff(mean(A),mean(B))</th>\n",
       "      <td>0.796</td>\n",
       "      <td>0.796</td>\n",
       "      <td>0.796</td>\n",
       "      <td>0.796</td>\n",
       "      <td>0.796</td>\n",
       "      <td>0.796</td>\n",
       "      <td>0.796</td>\n",
       "    </tr>\n",
       "  </tbody>\n",
       "</table>\n",
       "</div>"
      ],
      "text/plain": [
       "                            5HT2a-cimbi36-29-beliveau2017  \\\n",
       "mean-diff(mean(A),mean(B))                          0.796   \n",
       "\n",
       "                            NMDA-ge179-29-galovic2021  \\\n",
       "mean-diff(mean(A),mean(B))                      0.796   \n",
       "\n",
       "                            mGluR5-abp688-73-smart2019  \\\n",
       "mean-diff(mean(A),mean(B))                       0.796   \n",
       "\n",
       "                            MU-carfentanil-204-kantonen2020  \\\n",
       "mean-diff(mean(A),mean(B))                            0.796   \n",
       "\n",
       "                            GABAa-flumazenil-6-dukart2018  \\\n",
       "mean-diff(mean(A),mean(B))                          0.796   \n",
       "\n",
       "                            5HT1b-p943-65-gallezot2010  \\\n",
       "mean-diff(mean(A),mean(B))                       0.796   \n",
       "\n",
       "                            D2-raclopride-156-malen2022  \n",
       "mean-diff(mean(A),mean(B))                        0.796  "
      ]
     },
     "metadata": {},
     "output_type": "display_data"
    },
    {
     "data": {
      "text/plain": [
       "'cohen(A,B)-dominance_individual--fdr_bh'"
      ]
     },
     "metadata": {},
     "output_type": "display_data"
    },
    {
     "data": {
      "text/html": [
       "<div>\n",
       "<style scoped>\n",
       "    .dataframe tbody tr th:only-of-type {\n",
       "        vertical-align: middle;\n",
       "    }\n",
       "\n",
       "    .dataframe tbody tr th {\n",
       "        vertical-align: top;\n",
       "    }\n",
       "\n",
       "    .dataframe thead th {\n",
       "        text-align: right;\n",
       "    }\n",
       "</style>\n",
       "<table border=\"1\" class=\"dataframe\">\n",
       "  <thead>\n",
       "    <tr style=\"text-align: right;\">\n",
       "      <th></th>\n",
       "      <th>5HT2a-cimbi36-29-beliveau2017</th>\n",
       "      <th>NMDA-ge179-29-galovic2021</th>\n",
       "      <th>mGluR5-abp688-73-smart2019</th>\n",
       "      <th>MU-carfentanil-204-kantonen2020</th>\n",
       "      <th>GABAa-flumazenil-6-dukart2018</th>\n",
       "      <th>5HT1b-p943-65-gallezot2010</th>\n",
       "      <th>D2-raclopride-156-malen2022</th>\n",
       "    </tr>\n",
       "  </thead>\n",
       "  <tbody>\n",
       "    <tr>\n",
       "      <th>mean-cohen(A,B)</th>\n",
       "      <td>0.919333</td>\n",
       "      <td>0.919333</td>\n",
       "      <td>0.112</td>\n",
       "      <td>0.982</td>\n",
       "      <td>0.919333</td>\n",
       "      <td>0.919333</td>\n",
       "      <td>0.919333</td>\n",
       "    </tr>\n",
       "  </tbody>\n",
       "</table>\n",
       "</div>"
      ],
      "text/plain": [
       "                 5HT2a-cimbi36-29-beliveau2017  NMDA-ge179-29-galovic2021  \\\n",
       "mean-cohen(A,B)                       0.919333                   0.919333   \n",
       "\n",
       "                 mGluR5-abp688-73-smart2019  MU-carfentanil-204-kantonen2020  \\\n",
       "mean-cohen(A,B)                       0.112                            0.982   \n",
       "\n",
       "                 GABAa-flumazenil-6-dukart2018  5HT1b-p943-65-gallezot2010  \\\n",
       "mean-cohen(A,B)                       0.919333                    0.919333   \n",
       "\n",
       "                 D2-raclopride-156-malen2022  \n",
       "mean-cohen(A,B)                     0.919333  "
      ]
     },
     "metadata": {},
     "output_type": "display_data"
    },
    {
     "data": {
      "text/plain": [
       "'z(A,B)-slr--fdr_bh'"
      ]
     },
     "metadata": {},
     "output_type": "display_data"
    },
    {
     "data": {
      "text/html": [
       "<div>\n",
       "<style scoped>\n",
       "    .dataframe tbody tr th:only-of-type {\n",
       "        vertical-align: middle;\n",
       "    }\n",
       "\n",
       "    .dataframe tbody tr th {\n",
       "        vertical-align: top;\n",
       "    }\n",
       "\n",
       "    .dataframe thead th {\n",
       "        text-align: right;\n",
       "    }\n",
       "</style>\n",
       "<table border=\"1\" class=\"dataframe\">\n",
       "  <thead>\n",
       "    <tr style=\"text-align: right;\">\n",
       "      <th></th>\n",
       "      <th>5HT2a-cimbi36-29-beliveau2017</th>\n",
       "      <th>NMDA-ge179-29-galovic2021</th>\n",
       "      <th>mGluR5-abp688-73-smart2019</th>\n",
       "      <th>MU-carfentanil-204-kantonen2020</th>\n",
       "      <th>GABAa-flumazenil-6-dukart2018</th>\n",
       "      <th>5HT1b-p943-65-gallezot2010</th>\n",
       "      <th>D2-raclopride-156-malen2022</th>\n",
       "    </tr>\n",
       "  </thead>\n",
       "  <tbody>\n",
       "    <tr>\n",
       "      <th>mean-z(A,B)</th>\n",
       "      <td>0.818</td>\n",
       "      <td>0.818</td>\n",
       "      <td>0.818</td>\n",
       "      <td>0.252</td>\n",
       "      <td>0.818</td>\n",
       "      <td>0.336</td>\n",
       "      <td>0.818</td>\n",
       "    </tr>\n",
       "  </tbody>\n",
       "</table>\n",
       "</div>"
      ],
      "text/plain": [
       "             5HT2a-cimbi36-29-beliveau2017  NMDA-ge179-29-galovic2021  \\\n",
       "mean-z(A,B)                          0.818                      0.818   \n",
       "\n",
       "             mGluR5-abp688-73-smart2019  MU-carfentanil-204-kantonen2020  \\\n",
       "mean-z(A,B)                       0.818                            0.252   \n",
       "\n",
       "             GABAa-flumazenil-6-dukart2018  5HT1b-p943-65-gallezot2010  \\\n",
       "mean-z(A,B)                          0.818                       0.336   \n",
       "\n",
       "             D2-raclopride-156-malen2022  \n",
       "mean-z(A,B)                        0.818  "
      ]
     },
     "metadata": {},
     "output_type": "display_data"
    },
    {
     "data": {
      "text/plain": [
       "'cohen(A,B)-dominance_full_r2--fdr_bh'"
      ]
     },
     "metadata": {},
     "output_type": "display_data"
    },
    {
     "data": {
      "text/html": [
       "<div>\n",
       "<style scoped>\n",
       "    .dataframe tbody tr th:only-of-type {\n",
       "        vertical-align: middle;\n",
       "    }\n",
       "\n",
       "    .dataframe tbody tr th {\n",
       "        vertical-align: top;\n",
       "    }\n",
       "\n",
       "    .dataframe thead th {\n",
       "        text-align: right;\n",
       "    }\n",
       "</style>\n",
       "<table border=\"1\" class=\"dataframe\">\n",
       "  <thead>\n",
       "    <tr style=\"text-align: right;\">\n",
       "      <th></th>\n",
       "      <th>dominance_full_r2</th>\n",
       "    </tr>\n",
       "  </thead>\n",
       "  <tbody>\n",
       "    <tr>\n",
       "      <th>mean-cohen(A,B)</th>\n",
       "      <td>0.504</td>\n",
       "    </tr>\n",
       "  </tbody>\n",
       "</table>\n",
       "</div>"
      ],
      "text/plain": [
       "                 dominance_full_r2\n",
       "mean-cohen(A,B)              0.504"
      ]
     },
     "metadata": {},
     "output_type": "display_data"
    },
    {
     "data": {
      "text/plain": [
       "'cohen(A,B)-dominance_total--fdr_bh'"
      ]
     },
     "metadata": {},
     "output_type": "display_data"
    },
    {
     "data": {
      "text/html": [
       "<div>\n",
       "<style scoped>\n",
       "    .dataframe tbody tr th:only-of-type {\n",
       "        vertical-align: middle;\n",
       "    }\n",
       "\n",
       "    .dataframe tbody tr th {\n",
       "        vertical-align: top;\n",
       "    }\n",
       "\n",
       "    .dataframe thead th {\n",
       "        text-align: right;\n",
       "    }\n",
       "</style>\n",
       "<table border=\"1\" class=\"dataframe\">\n",
       "  <thead>\n",
       "    <tr style=\"text-align: right;\">\n",
       "      <th></th>\n",
       "      <th>5HT2a-cimbi36-29-beliveau2017</th>\n",
       "      <th>NMDA-ge179-29-galovic2021</th>\n",
       "      <th>mGluR5-abp688-73-smart2019</th>\n",
       "      <th>MU-carfentanil-204-kantonen2020</th>\n",
       "      <th>GABAa-flumazenil-6-dukart2018</th>\n",
       "      <th>5HT1b-p943-65-gallezot2010</th>\n",
       "      <th>D2-raclopride-156-malen2022</th>\n",
       "    </tr>\n",
       "  </thead>\n",
       "  <tbody>\n",
       "    <tr>\n",
       "      <th>mean-cohen(A,B)</th>\n",
       "      <td>0.924</td>\n",
       "      <td>0.875</td>\n",
       "      <td>0.924</td>\n",
       "      <td>0.924</td>\n",
       "      <td>0.875</td>\n",
       "      <td>0.924</td>\n",
       "      <td>0.924</td>\n",
       "    </tr>\n",
       "  </tbody>\n",
       "</table>\n",
       "</div>"
      ],
      "text/plain": [
       "                 5HT2a-cimbi36-29-beliveau2017  NMDA-ge179-29-galovic2021  \\\n",
       "mean-cohen(A,B)                          0.924                      0.875   \n",
       "\n",
       "                 mGluR5-abp688-73-smart2019  MU-carfentanil-204-kantonen2020  \\\n",
       "mean-cohen(A,B)                       0.924                            0.924   \n",
       "\n",
       "                 GABAa-flumazenil-6-dukart2018  5HT1b-p943-65-gallezot2010  \\\n",
       "mean-cohen(A,B)                          0.875                       0.924   \n",
       "\n",
       "                 D2-raclopride-156-malen2022  \n",
       "mean-cohen(A,B)                        0.924  "
      ]
     },
     "metadata": {},
     "output_type": "display_data"
    }
   ],
   "source": [
    "juspyce_vol.correct_p(\n",
    "    analysis=\"comparisons\", # one of \"predictions\" or \"comparisons\" -> here: predictions\n",
    "    method=\"all\", # if all, iterate over all dataframes (but calculate values for each individual dataframe)\n",
    "    mc_alpha=0.05, # alpha treshold, should have no effect\n",
    "    mc_method=\"fdr_bh\", # correction method passed to statsmodels\n",
    "    mc_dimension=\"array\") # 'array', 'row' or 'column'\n",
    "for k in juspyce_vol.p_comparisons:\n",
    "    display(k)\n",
    "    display(juspyce_vol.p_comparisons[k])"
   ]
  },
  {
   "cell_type": "code",
   "execution_count": null,
   "metadata": {},
   "outputs": [],
   "source": []
  }
 ],
 "metadata": {
  "kernelspec": {
   "display_name": "Python 3.8.13 ('juspyce')",
   "language": "python",
   "name": "python3"
  },
  "language_info": {
   "codemirror_mode": {
    "name": "ipython",
    "version": 3
   },
   "file_extension": ".py",
   "mimetype": "text/x-python",
   "name": "python",
   "nbconvert_exporter": "python",
   "pygments_lexer": "ipython3",
   "version": "3.8.13"
  },
  "orig_nbformat": 4,
  "vscode": {
   "interpreter": {
    "hash": "28994228ede6da2547bbecb80f73aeb4953752b5d1624fab9af673cde56972de"
   }
  }
 },
 "nbformat": 4,
 "nbformat_minor": 2
}
