{
 "cells": [
  {
   "cell_type": "code",
   "execution_count": 1,
   "metadata": {},
   "outputs": [
    {
     "name": "stderr",
     "output_type": "stream",
     "text": [
      "/Users/llotter/opt/anaconda3/envs/domanalysis/lib/python3.8/site-packages/nilearn/input_data/__init__.py:27: FutureWarning: The import path 'nilearn.input_data' is deprecated in version 0.9. Importing from 'nilearn.input_data' will be possible at least until release 0.13.0. Please import from 'nilearn.maskers' instead.\n",
      "  warnings.warn(message, FutureWarning)\n"
     ]
    }
   ],
   "source": [
    "import sys\n",
    "import os\n",
    "from glob import glob\n",
    "import numpy as np\n",
    "import pandas as pd\n",
    "from scipy import ndimage\n",
    "from scipy.spatial.distance import cdist\n",
    "from IPython.display import display\n",
    "from brainsmash.mapgen import Base, Sampled\n",
    "import nibabel as nib\n",
    "from tqdm.auto import tqdm\n",
    "from neuromaps.parcellate import Parcellater\n",
    "from neuromaps.images import load_nifti\n",
    "from neuromaps import images\n",
    "import nilearn as nl\n",
    "sys.path.append(os.path.dirname('/Users/llotter/projects/cmc/cmc'))\n",
    "from cmc.api import CMC"
   ]
  },
  {
   "cell_type": "markdown",
   "metadata": {},
   "source": [
    "# volumetric data"
   ]
  },
  {
   "cell_type": "code",
   "execution_count": 2,
   "metadata": {},
   "outputs": [],
   "source": [
    "x = glob(\"/Users/llotter/projects/cmc/testing/test_x/*\")\n",
    "img = x[0]\n",
    "parcellation = glob(\"/Users/llotter/projects/cmc/testing/test_parc/*\")[0]\n",
    "\n",
    "## get data\n",
    "parc = load_nifti(parcellation)\n",
    "parc_data = parc.get_fdata()\n",
    "parc_affine = parc.affine\n",
    "parcels = np.trim_zeros(np.unique(parc_data))\n",
    "n_parcels = len(parcels)\n",
    "parcellater = Parcellater(parc, \"MNI152\", resampling_target=\"data\")\n",
    "img = load_nifti(img)\n",
    "img_parc = parcellater.fit_transform(img, \"MNI152\")"
   ]
  },
  {
   "cell_type": "code",
   "execution_count": 12,
   "metadata": {},
   "outputs": [
    {
     "data": {
      "application/vnd.jupyter.widget-view+json": {
       "model_id": "f6bca47dd2f24031bb2b16233f310f61",
       "version_major": 2,
       "version_minor": 0
      },
      "text/plain": [
       "xyz loop:   0%|          | 0/139942 [00:00<?, ?it/s]"
      ]
     },
     "metadata": {},
     "output_type": "display_data"
    },
    {
     "data": {
      "text/html": [
       "<div>\n",
       "<style scoped>\n",
       "    .dataframe tbody tr th:only-of-type {\n",
       "        vertical-align: middle;\n",
       "    }\n",
       "\n",
       "    .dataframe tbody tr th {\n",
       "        vertical-align: top;\n",
       "    }\n",
       "\n",
       "    .dataframe thead th {\n",
       "        text-align: right;\n",
       "    }\n",
       "</style>\n",
       "<table border=\"1\" class=\"dataframe\">\n",
       "  <thead>\n",
       "    <tr style=\"text-align: right;\">\n",
       "      <th></th>\n",
       "      <th>0</th>\n",
       "      <th>1</th>\n",
       "      <th>2</th>\n",
       "      <th>3</th>\n",
       "      <th>4</th>\n",
       "      <th>5</th>\n",
       "      <th>6</th>\n",
       "      <th>7</th>\n",
       "      <th>8</th>\n",
       "      <th>9</th>\n",
       "      <th>...</th>\n",
       "      <th>106</th>\n",
       "      <th>107</th>\n",
       "      <th>108</th>\n",
       "      <th>109</th>\n",
       "      <th>110</th>\n",
       "      <th>111</th>\n",
       "      <th>112</th>\n",
       "      <th>113</th>\n",
       "      <th>114</th>\n",
       "      <th>115</th>\n",
       "    </tr>\n",
       "  </thead>\n",
       "  <tbody>\n",
       "    <tr>\n",
       "      <th>0</th>\n",
       "      <td>15.151454</td>\n",
       "      <td>46.026604</td>\n",
       "      <td>33.721268</td>\n",
       "      <td>65.145287</td>\n",
       "      <td>65.707100</td>\n",
       "      <td>43.989674</td>\n",
       "      <td>53.251812</td>\n",
       "      <td>68.881470</td>\n",
       "      <td>68.916901</td>\n",
       "      <td>42.830582</td>\n",
       "      <td>...</td>\n",
       "      <td>66.535881</td>\n",
       "      <td>66.289368</td>\n",
       "      <td>19.624897</td>\n",
       "      <td>31.298292</td>\n",
       "      <td>27.342598</td>\n",
       "      <td>39.001465</td>\n",
       "      <td>52.012741</td>\n",
       "      <td>35.743858</td>\n",
       "      <td>40.444614</td>\n",
       "      <td>55.000160</td>\n",
       "    </tr>\n",
       "    <tr>\n",
       "      <th>1</th>\n",
       "      <td>46.026604</td>\n",
       "      <td>16.820744</td>\n",
       "      <td>25.400406</td>\n",
       "      <td>26.864336</td>\n",
       "      <td>30.750854</td>\n",
       "      <td>31.447741</td>\n",
       "      <td>35.893322</td>\n",
       "      <td>40.199345</td>\n",
       "      <td>46.549068</td>\n",
       "      <td>66.543327</td>\n",
       "      <td>...</td>\n",
       "      <td>95.429375</td>\n",
       "      <td>99.582245</td>\n",
       "      <td>56.178623</td>\n",
       "      <td>74.047806</td>\n",
       "      <td>55.014908</td>\n",
       "      <td>69.409180</td>\n",
       "      <td>93.130302</td>\n",
       "      <td>74.907661</td>\n",
       "      <td>79.371223</td>\n",
       "      <td>92.382347</td>\n",
       "    </tr>\n",
       "    <tr>\n",
       "      <th>2</th>\n",
       "      <td>33.721268</td>\n",
       "      <td>25.400406</td>\n",
       "      <td>16.829594</td>\n",
       "      <td>39.798676</td>\n",
       "      <td>35.495369</td>\n",
       "      <td>22.355152</td>\n",
       "      <td>39.674416</td>\n",
       "      <td>43.678761</td>\n",
       "      <td>42.380585</td>\n",
       "      <td>57.434650</td>\n",
       "      <td>...</td>\n",
       "      <td>77.080132</td>\n",
       "      <td>80.795021</td>\n",
       "      <td>42.278198</td>\n",
       "      <td>59.623802</td>\n",
       "      <td>37.336876</td>\n",
       "      <td>51.280720</td>\n",
       "      <td>76.184692</td>\n",
       "      <td>58.256878</td>\n",
       "      <td>63.544510</td>\n",
       "      <td>74.812157</td>\n",
       "    </tr>\n",
       "    <tr>\n",
       "      <th>3</th>\n",
       "      <td>65.145287</td>\n",
       "      <td>26.864336</td>\n",
       "      <td>39.798676</td>\n",
       "      <td>19.611647</td>\n",
       "      <td>27.394293</td>\n",
       "      <td>39.231438</td>\n",
       "      <td>37.701271</td>\n",
       "      <td>32.039948</td>\n",
       "      <td>42.510342</td>\n",
       "      <td>79.706429</td>\n",
       "      <td>...</td>\n",
       "      <td>110.774406</td>\n",
       "      <td>115.125069</td>\n",
       "      <td>74.796707</td>\n",
       "      <td>93.203796</td>\n",
       "      <td>71.124176</td>\n",
       "      <td>84.850189</td>\n",
       "      <td>111.045380</td>\n",
       "      <td>92.392075</td>\n",
       "      <td>96.459793</td>\n",
       "      <td>108.571716</td>\n",
       "    </tr>\n",
       "    <tr>\n",
       "      <th>4</th>\n",
       "      <td>65.707100</td>\n",
       "      <td>30.750854</td>\n",
       "      <td>35.495369</td>\n",
       "      <td>27.394293</td>\n",
       "      <td>14.368005</td>\n",
       "      <td>31.985382</td>\n",
       "      <td>50.473072</td>\n",
       "      <td>35.107979</td>\n",
       "      <td>33.330921</td>\n",
       "      <td>86.550995</td>\n",
       "      <td>...</td>\n",
       "      <td>98.874741</td>\n",
       "      <td>106.031105</td>\n",
       "      <td>74.691216</td>\n",
       "      <td>92.009216</td>\n",
       "      <td>66.761063</td>\n",
       "      <td>79.218971</td>\n",
       "      <td>107.026978</td>\n",
       "      <td>89.799530</td>\n",
       "      <td>95.423447</td>\n",
       "      <td>104.458740</td>\n",
       "    </tr>\n",
       "    <tr>\n",
       "      <th>...</th>\n",
       "      <td>...</td>\n",
       "      <td>...</td>\n",
       "      <td>...</td>\n",
       "      <td>...</td>\n",
       "      <td>...</td>\n",
       "      <td>...</td>\n",
       "      <td>...</td>\n",
       "      <td>...</td>\n",
       "      <td>...</td>\n",
       "      <td>...</td>\n",
       "      <td>...</td>\n",
       "      <td>...</td>\n",
       "      <td>...</td>\n",
       "      <td>...</td>\n",
       "      <td>...</td>\n",
       "      <td>...</td>\n",
       "      <td>...</td>\n",
       "      <td>...</td>\n",
       "      <td>...</td>\n",
       "      <td>...</td>\n",
       "      <td>...</td>\n",
       "    </tr>\n",
       "    <tr>\n",
       "      <th>111</th>\n",
       "      <td>39.001465</td>\n",
       "      <td>69.409180</td>\n",
       "      <td>51.280720</td>\n",
       "      <td>84.850189</td>\n",
       "      <td>79.218971</td>\n",
       "      <td>52.453995</td>\n",
       "      <td>69.468933</td>\n",
       "      <td>78.167923</td>\n",
       "      <td>70.132301</td>\n",
       "      <td>48.834442</td>\n",
       "      <td>...</td>\n",
       "      <td>41.230312</td>\n",
       "      <td>35.409554</td>\n",
       "      <td>33.553623</td>\n",
       "      <td>34.256222</td>\n",
       "      <td>18.331335</td>\n",
       "      <td>13.358422</td>\n",
       "      <td>33.381077</td>\n",
       "      <td>21.054539</td>\n",
       "      <td>27.783798</td>\n",
       "      <td>27.983427</td>\n",
       "    </tr>\n",
       "    <tr>\n",
       "      <th>112</th>\n",
       "      <td>52.012741</td>\n",
       "      <td>93.130302</td>\n",
       "      <td>76.184692</td>\n",
       "      <td>111.045380</td>\n",
       "      <td>107.026978</td>\n",
       "      <td>81.020866</td>\n",
       "      <td>94.426453</td>\n",
       "      <td>107.634491</td>\n",
       "      <td>101.332047</td>\n",
       "      <td>59.429459</td>\n",
       "      <td>...</td>\n",
       "      <td>42.061672</td>\n",
       "      <td>30.843819</td>\n",
       "      <td>42.045494</td>\n",
       "      <td>26.613182</td>\n",
       "      <td>42.742783</td>\n",
       "      <td>33.381077</td>\n",
       "      <td>8.684171</td>\n",
       "      <td>21.064293</td>\n",
       "      <td>23.247938</td>\n",
       "      <td>18.319929</td>\n",
       "    </tr>\n",
       "    <tr>\n",
       "      <th>113</th>\n",
       "      <td>35.743858</td>\n",
       "      <td>74.907661</td>\n",
       "      <td>58.256878</td>\n",
       "      <td>92.392075</td>\n",
       "      <td>89.799530</td>\n",
       "      <td>63.043461</td>\n",
       "      <td>74.635872</td>\n",
       "      <td>88.701996</td>\n",
       "      <td>83.864815</td>\n",
       "      <td>43.461880</td>\n",
       "      <td>...</td>\n",
       "      <td>46.984619</td>\n",
       "      <td>38.468670</td>\n",
       "      <td>26.968555</td>\n",
       "      <td>19.509529</td>\n",
       "      <td>25.321857</td>\n",
       "      <td>21.054539</td>\n",
       "      <td>21.064293</td>\n",
       "      <td>8.764838</td>\n",
       "      <td>15.420214</td>\n",
       "      <td>22.352907</td>\n",
       "    </tr>\n",
       "    <tr>\n",
       "      <th>114</th>\n",
       "      <td>40.444614</td>\n",
       "      <td>79.371223</td>\n",
       "      <td>63.544510</td>\n",
       "      <td>96.459793</td>\n",
       "      <td>95.423447</td>\n",
       "      <td>68.219154</td>\n",
       "      <td>76.098236</td>\n",
       "      <td>92.005592</td>\n",
       "      <td>88.366791</td>\n",
       "      <td>40.704655</td>\n",
       "      <td>...</td>\n",
       "      <td>54.027538</td>\n",
       "      <td>43.424641</td>\n",
       "      <td>31.500271</td>\n",
       "      <td>23.867081</td>\n",
       "      <td>31.801302</td>\n",
       "      <td>27.783798</td>\n",
       "      <td>23.247938</td>\n",
       "      <td>15.420214</td>\n",
       "      <td>15.517078</td>\n",
       "      <td>23.385948</td>\n",
       "    </tr>\n",
       "    <tr>\n",
       "      <th>115</th>\n",
       "      <td>55.000160</td>\n",
       "      <td>92.382347</td>\n",
       "      <td>74.812157</td>\n",
       "      <td>108.571716</td>\n",
       "      <td>104.458740</td>\n",
       "      <td>77.100800</td>\n",
       "      <td>89.550026</td>\n",
       "      <td>101.523605</td>\n",
       "      <td>94.419647</td>\n",
       "      <td>55.513550</td>\n",
       "      <td>...</td>\n",
       "      <td>43.424641</td>\n",
       "      <td>28.847391</td>\n",
       "      <td>45.694080</td>\n",
       "      <td>35.541531</td>\n",
       "      <td>39.597664</td>\n",
       "      <td>27.983427</td>\n",
       "      <td>18.319929</td>\n",
       "      <td>22.352907</td>\n",
       "      <td>23.385948</td>\n",
       "      <td>12.481091</td>\n",
       "    </tr>\n",
       "  </tbody>\n",
       "</table>\n",
       "<p>116 rows × 116 columns</p>\n",
       "</div>"
      ],
      "text/plain": [
       "           0          1          2           3           4          5    \\\n",
       "0    15.151454  46.026604  33.721268   65.145287   65.707100  43.989674   \n",
       "1    46.026604  16.820744  25.400406   26.864336   30.750854  31.447741   \n",
       "2    33.721268  25.400406  16.829594   39.798676   35.495369  22.355152   \n",
       "3    65.145287  26.864336  39.798676   19.611647   27.394293  39.231438   \n",
       "4    65.707100  30.750854  35.495369   27.394293   14.368005  31.985382   \n",
       "..         ...        ...        ...         ...         ...        ...   \n",
       "111  39.001465  69.409180  51.280720   84.850189   79.218971  52.453995   \n",
       "112  52.012741  93.130302  76.184692  111.045380  107.026978  81.020866   \n",
       "113  35.743858  74.907661  58.256878   92.392075   89.799530  63.043461   \n",
       "114  40.444614  79.371223  63.544510   96.459793   95.423447  68.219154   \n",
       "115  55.000160  92.382347  74.812157  108.571716  104.458740  77.100800   \n",
       "\n",
       "           6           7           8          9    ...         106  \\\n",
       "0    53.251812   68.881470   68.916901  42.830582  ...   66.535881   \n",
       "1    35.893322   40.199345   46.549068  66.543327  ...   95.429375   \n",
       "2    39.674416   43.678761   42.380585  57.434650  ...   77.080132   \n",
       "3    37.701271   32.039948   42.510342  79.706429  ...  110.774406   \n",
       "4    50.473072   35.107979   33.330921  86.550995  ...   98.874741   \n",
       "..         ...         ...         ...        ...  ...         ...   \n",
       "111  69.468933   78.167923   70.132301  48.834442  ...   41.230312   \n",
       "112  94.426453  107.634491  101.332047  59.429459  ...   42.061672   \n",
       "113  74.635872   88.701996   83.864815  43.461880  ...   46.984619   \n",
       "114  76.098236   92.005592   88.366791  40.704655  ...   54.027538   \n",
       "115  89.550026  101.523605   94.419647  55.513550  ...   43.424641   \n",
       "\n",
       "            107        108        109        110        111         112  \\\n",
       "0     66.289368  19.624897  31.298292  27.342598  39.001465   52.012741   \n",
       "1     99.582245  56.178623  74.047806  55.014908  69.409180   93.130302   \n",
       "2     80.795021  42.278198  59.623802  37.336876  51.280720   76.184692   \n",
       "3    115.125069  74.796707  93.203796  71.124176  84.850189  111.045380   \n",
       "4    106.031105  74.691216  92.009216  66.761063  79.218971  107.026978   \n",
       "..          ...        ...        ...        ...        ...         ...   \n",
       "111   35.409554  33.553623  34.256222  18.331335  13.358422   33.381077   \n",
       "112   30.843819  42.045494  26.613182  42.742783  33.381077    8.684171   \n",
       "113   38.468670  26.968555  19.509529  25.321857  21.054539   21.064293   \n",
       "114   43.424641  31.500271  23.867081  31.801302  27.783798   23.247938   \n",
       "115   28.847391  45.694080  35.541531  39.597664  27.983427   18.319929   \n",
       "\n",
       "           113        114         115  \n",
       "0    35.743858  40.444614   55.000160  \n",
       "1    74.907661  79.371223   92.382347  \n",
       "2    58.256878  63.544510   74.812157  \n",
       "3    92.392075  96.459793  108.571716  \n",
       "4    89.799530  95.423447  104.458740  \n",
       "..         ...        ...         ...  \n",
       "111  21.054539  27.783798   27.983427  \n",
       "112  21.064293  23.247938   18.319929  \n",
       "113   8.764838  15.420214   22.352907  \n",
       "114  15.420214  15.517078   23.385948  \n",
       "115  22.352907  23.385948   12.481091  \n",
       "\n",
       "[116 rows x 116 columns]"
      ]
     },
     "metadata": {},
     "output_type": "display_data"
    }
   ],
   "source": [
    "## distance matrix, from neuromaps\n",
    "\n",
    "mask = np.logical_not(np.logical_or(np.isclose(parc_data, 0), np.isnan(parc_data)))\n",
    "ijk = nib.affines.apply_affine(parc_affine, np.column_stack(np.where(mask)))\n",
    "parc_data_m = parc_data[mask]\n",
    "\n",
    "row_dist = np.zeros((len(ijk), n_parcels), dtype='float32')\n",
    "dist = np.zeros((n_parcels, n_parcels), dtype='float32')\n",
    "for n, row in enumerate(tqdm(ijk, desc=\"xyz loop\")):\n",
    "    ijk_dist = cdist(row[None], ijk).astype('float32')\n",
    "    row_dist[n] = ndimage.mean(ijk_dist, parc_data_m, parcels)\n",
    "for n in range(n_parcels):\n",
    "    dist[n] = ndimage.mean(row_dist[:, n], parc_data_m, parcels)\n",
    "display(pd.DataFrame(dist))"
   ]
  },
  {
   "cell_type": "code",
   "execution_count": 15,
   "metadata": {},
   "outputs": [
    {
     "data": {
      "text/plain": [
       "array([15.151454, 46.026604, 33.721268, 65.14529 , 65.7071  , 43.989674,\n",
       "       53.251812, 68.88147 , 68.9169  , 42.83058 ], dtype=float32)"
      ]
     },
     "execution_count": 15,
     "metadata": {},
     "output_type": "execute_result"
    }
   ],
   "source": [
    "dist[0,:10]"
   ]
  },
  {
   "cell_type": "code",
   "execution_count": 22,
   "metadata": {},
   "outputs": [
    {
     "data": {
      "application/vnd.jupyter.widget-view+json": {
       "model_id": "80b6b7dcd96c40f9ae4860d11f5f6e35",
       "version_major": 2,
       "version_minor": 0
      },
      "text/plain": [
       "  0%|          | 0/116 [00:00<?, ?it/s]"
      ]
     },
     "metadata": {},
     "output_type": "display_data"
    },
    {
     "data": {
      "text/plain": [
       "array([15.151454, 46.026604, 33.721268, 65.14529 , 65.7071  , 43.989674,\n",
       "       53.251812, 68.88147 , 68.9169  , 42.83058 ], dtype=float32)"
      ]
     },
     "execution_count": 22,
     "metadata": {},
     "output_type": "execute_result"
    }
   ],
   "source": [
    "## distance matrix, speed improved, one triangle\n",
    "\n",
    "mask = np.logical_not(np.logical_or(np.isclose(parc_data, 0), np.isnan(parc_data)))\n",
    "parc_data_m = parc_data * mask\n",
    "\n",
    "ijk_parcels = dict()\n",
    "for i_parcel in parcels:\n",
    "    xyz_parcel = np.column_stack(np.where(parc_data_m==i_parcel))\n",
    "    ijk_parcels[i_parcel] = nib.affines.apply_affine(parc_affine, xyz_parcel)\n",
    "\n",
    "dist = np.zeros((n_parcels, n_parcels), dtype='float32')\n",
    "for i, i_parcel in enumerate(tqdm(parcels)):\n",
    "    j = i\n",
    "    for _ in range(n_parcels - j):\n",
    "        dist[i,j] = cdist(ijk_parcels[i_parcel], ijk_parcels[parcels[j]]).mean().astype('float32')\n",
    "        j += 1\n",
    "\n",
    "dist = dist + dist.T - np.diag(np.diag(dist))\n",
    "\n",
    "dist[0,:10]"
   ]
  },
  {
   "cell_type": "code",
   "execution_count": 17,
   "metadata": {},
   "outputs": [
    {
     "data": {
      "text/plain": [
       "array([ 0.      , 44.091846, 31.6248  , 63.11293 , 64.568054, 42.52424 ,\n",
       "       51.843227, 67.06589 , 67.84859 , 38.684334], dtype=float32)"
      ]
     },
     "execution_count": 17,
     "metadata": {},
     "output_type": "execute_result"
    }
   ],
   "source": [
    "## distance matrix, parcel centroids\n",
    "\n",
    "mask = np.logical_not(np.logical_or(np.isclose(parc_data, 0), np.isnan(parc_data)))\n",
    "parc_data_m = parc_data * mask\n",
    "\n",
    "xyz = np.zeros((n_parcels, 3), float)\n",
    "for i, i_parcel in enumerate(parcels):\n",
    "    xyz[i,:] = np.column_stack(np.where(parc_data_m==i_parcel)).mean(axis=0)\n",
    "ijk = nib.affines.apply_affine(parc_affine, xyz)\n",
    "\n",
    "dist = np.zeros((n_parcels, n_parcels), dtype='float32')\n",
    "for i, row in enumerate(ijk):\n",
    "    dist[i] = cdist(row[None], ijk).astype('float32')\n",
    "    \n",
    "dist[0,:10]"
   ]
  },
  {
   "cell_type": "code",
   "execution_count": 21,
   "metadata": {},
   "outputs": [],
   "source": [
    "gen = Base(x=img_parc[0,], D=dist, seed=42, resample=False)\n",
    "nulls = gen(1000, 100)"
   ]
  },
  {
   "cell_type": "code",
   "execution_count": 14,
   "metadata": {},
   "outputs": [
    {
     "data": {
      "text/plain": [
       "(1000, 116)"
      ]
     },
     "execution_count": 14,
     "metadata": {},
     "output_type": "execute_result"
    }
   ],
   "source": [
    "nulls.shape"
   ]
  },
  {
   "cell_type": "markdown",
   "metadata": {},
   "source": [
    "## test"
   ]
  },
  {
   "cell_type": "code",
   "execution_count": 37,
   "metadata": {},
   "outputs": [
    {
     "data": {
      "application/vnd.jupyter.widget-view+json": {
       "model_id": "8f408642253346a39f8cc6ee68f8f5c5",
       "version_major": 2,
       "version_minor": 0
      },
      "text/plain": [
       "  0%|          | 0/116 [00:00<?, ?it/s]"
      ]
     },
     "metadata": {},
     "output_type": "display_data"
    }
   ],
   "source": [
    "from cmc.nulls import vol_distance_matrix\n",
    "vol_distance_matrix(parcellation)"
   ]
  },
  {
   "cell_type": "markdown",
   "metadata": {},
   "source": [
    "# surface data"
   ]
  },
  {
   "cell_type": "code",
   "execution_count": 3,
   "metadata": {},
   "outputs": [],
   "source": [
    "destrieux = nl.datasets.fetch_atlas_surf_destrieux()\n",
    "destrieux_labels = [l.decode() for l in destrieux['labels']]\n",
    "# make labels to fit braincharts model IDPs\n",
    "destrieux_idps = [l for l in destrieux_labels if l not in ['Unknown', 'Medial_wall']]\n",
    "destrieux_idps = ['lh_' + l.replace('_and_', '&') + '_thickness' for l in destrieux_idps] + \\\n",
    "                 ['rh_' + l.replace('_and_', '&') + '_thickness' for l in destrieux_idps]\n",
    "# make gifti from parcellations vectors\n",
    "parc_left = images.construct_shape_gii(destrieux['map_left'], labels=destrieux_labels, intent='NIFTI_INTENT_LABEL')\n",
    "parc_right = images.construct_shape_gii(destrieux['map_right'], labels=destrieux_labels, intent='NIFTI_INTENT_LABEL')\n",
    "parcellation = images.relabel_gifti((parc_left, parc_right), background=['Medial_wall'])\n",
    "\n",
    "from neuromaps.nulls import burt2020\n",
    "data_surf = np.random.rand(len(destrieux_idps))"
   ]
  },
  {
   "cell_type": "code",
   "execution_count": 28,
   "metadata": {},
   "outputs": [],
   "source": [
    "## distance matrix neuromaps\n",
    "from neuromaps.nulls.nulls import _get_distmat\n",
    "\n",
    "parc_hemi = None\n",
    "\n",
    "if parc_hemi is None:\n",
    "    parc_hemi = [\"L\", \"R\"]\n",
    "\n",
    "dist = list()\n",
    "for i_hemi, hemi in enumerate(parc_hemi):\n",
    "    dist.append(_get_distmat(hemi, \n",
    "                             atlas=\"fsaverage\", \n",
    "                             density=\"10k\", \n",
    "                             parcellation=parcellation[i_hemi],\n",
    "                             n_proc=-1))\n",
    "dist = tuple(dist)"
   ]
  },
  {
   "cell_type": "code",
   "execution_count": 33,
   "metadata": {},
   "outputs": [],
   "source": [
    "## burt 2020 with precomputed dist mat\n",
    "nulls = burt2020(data=data_surf,\n",
    "                 parcellation=parcellation,\n",
    "                 atlas=\"fsaverage\",\n",
    "                 density=\"10k\",\n",
    "                 distmat=dist,\n",
    "                 n_perm=1000,\n",
    "                 seed=42\n",
    "                 ).T"
   ]
  },
  {
   "cell_type": "markdown",
   "metadata": {},
   "source": [
    "# Test"
   ]
  },
  {
   "cell_type": "code",
   "execution_count": 3,
   "metadata": {},
   "outputs": [
    {
     "name": "stderr",
     "output_type": "stream",
     "text": [
      "INFO:cmc.nulls:Null map generation: Assuming n = 10 data vector(s) for n = 116 parcels.\n",
      "INFO:cmc.nulls:Calculating distance matrix/matrices (space = 'MNI152')\n"
     ]
    },
    {
     "data": {
      "application/vnd.jupyter.widget-view+json": {
       "model_id": "f9c2b2ec1a314e609df5ac3ca1963052",
       "version_major": 2,
       "version_minor": 0
      },
      "text/plain": [
       "Generating null data:   0%|          | 0/10 [00:00<?, ?it/s]"
      ]
     },
     "metadata": {},
     "output_type": "display_data"
    },
    {
     "name": "stderr",
     "output_type": "stream",
     "text": [
      "INFO:cmc.nulls:Null data generation finished.\n",
      "INFO:cmc.nulls:Null map generation: Assuming n = 10 data vector(s) for n = 148 parcels.\n",
      "INFO:cmc.nulls:Calculating distance matrix/matrices (space = 'MNI152')\n"
     ]
    },
    {
     "data": {
      "application/vnd.jupyter.widget-view+json": {
       "model_id": "d1c285ec6b404ab9ab671425911e965c",
       "version_major": 2,
       "version_minor": 0
      },
      "text/plain": [
       "Generating null data:   0%|          | 0/10 [00:00<?, ?it/s]"
      ]
     },
     "metadata": {},
     "output_type": "display_data"
    },
    {
     "ename": "ValueError",
     "evalue": "Distance matrix must have dimensions consistent with brain map\nDistance matrix shape: (116, 116)\nBrain map size: 148",
     "output_type": "error",
     "traceback": [
      "\u001b[0;31m---------------------------------------------------------------------------\u001b[0m",
      "\u001b[0;31mValueError\u001b[0m                                Traceback (most recent call last)",
      "\u001b[1;32m/Users/llotter/projects/cmc/testing/null_maps.ipynb Cell 18'\u001b[0m in \u001b[0;36m<cell line: 11>\u001b[0;34m()\u001b[0m\n\u001b[1;32m      <a href='vscode-notebook-cell:/Users/llotter/projects/cmc/testing/null_maps.ipynb#ch0000033?line=6'>7</a>\u001b[0m nullsvol \u001b[39m=\u001b[39m generate_null_maps(data\u001b[39m=\u001b[39mdata_vol,\n\u001b[1;32m      <a href='vscode-notebook-cell:/Users/llotter/projects/cmc/testing/null_maps.ipynb#ch0000033?line=7'>8</a>\u001b[0m                               parcellation\u001b[39m=\u001b[39mparc)\n\u001b[1;32m     <a href='vscode-notebook-cell:/Users/llotter/projects/cmc/testing/null_maps.ipynb#ch0000033?line=9'>10</a>\u001b[0m \u001b[39m# surf\u001b[39;00m\n\u001b[0;32m---> <a href='vscode-notebook-cell:/Users/llotter/projects/cmc/testing/null_maps.ipynb#ch0000033?line=10'>11</a>\u001b[0m nullsurf \u001b[39m=\u001b[39m generate_null_maps(data\u001b[39m=\u001b[39;49mdata_surf,\n\u001b[1;32m     <a href='vscode-notebook-cell:/Users/llotter/projects/cmc/testing/null_maps.ipynb#ch0000033?line=11'>12</a>\u001b[0m                               parcellation\u001b[39m=\u001b[39;49mparcellation)\n",
      "File \u001b[0;32m~/projects/cmc/cmc/nulls.py:132\u001b[0m, in \u001b[0;36mgenerate_null_maps\u001b[0;34m(data, parcellation, parc_space, parc_hemi, parc_density, n_nulls, centroids, n_cores, seed, verbose)\u001b[0m\n\u001b[1;32m    <a href='file:///Users/llotter/projects/cmc/cmc/nulls.py?line=128'>129</a>\u001b[0m     lgr\u001b[39m.\u001b[39mdebug(\u001b[39mf\u001b[39m\u001b[39m\"\u001b[39m\u001b[39mGenerating volumetric null data \u001b[39m\u001b[39m{\u001b[39;00mi\u001b[39m}\u001b[39;00m\u001b[39m/\u001b[39m\u001b[39m{\u001b[39;00mn_data\u001b[39m}\u001b[39;00m\u001b[39m (n = \u001b[39m\u001b[39m{\u001b[39;00mn_nulls\u001b[39m}\u001b[39;00m\u001b[39m)...\u001b[39m\u001b[39m\"\u001b[39m)\n\u001b[1;32m    <a href='file:///Users/llotter/projects/cmc/cmc/nulls.py?line=130'>131</a>\u001b[0m     \u001b[39m# null data\u001b[39;00m\n\u001b[0;32m--> <a href='file:///Users/llotter/projects/cmc/cmc/nulls.py?line=131'>132</a>\u001b[0m     generater \u001b[39m=\u001b[39m Base(x\u001b[39m=\u001b[39;49mdata[i,:], \n\u001b[1;32m    <a href='file:///Users/llotter/projects/cmc/cmc/nulls.py?line=132'>133</a>\u001b[0m                     D\u001b[39m=\u001b[39;49mdist_mat, \n\u001b[1;32m    <a href='file:///Users/llotter/projects/cmc/cmc/nulls.py?line=133'>134</a>\u001b[0m                     seed\u001b[39m=\u001b[39;49mseed,\n\u001b[1;32m    <a href='file:///Users/llotter/projects/cmc/cmc/nulls.py?line=134'>135</a>\u001b[0m                     n_jobs\u001b[39m=\u001b[39;49mn_cores)\n\u001b[1;32m    <a href='file:///Users/llotter/projects/cmc/cmc/nulls.py?line=135'>136</a>\u001b[0m     nulls[i_lab] \u001b[39m=\u001b[39m generater(n_nulls, \u001b[39m100\u001b[39m)\n\u001b[1;32m    <a href='file:///Users/llotter/projects/cmc/cmc/nulls.py?line=137'>138</a>\u001b[0m \u001b[39m# case surface data\u001b[39;00m\n\u001b[1;32m    <a href='file:///Users/llotter/projects/cmc/cmc/nulls.py?line=138'>139</a>\u001b[0m \u001b[39melse\u001b[39;00m:\n",
      "File \u001b[0;32m~/opt/anaconda3/envs/domanalysis/lib/python3.8/site-packages/brainsmash/mapgen/base.py:65\u001b[0m, in \u001b[0;36mBase.__init__\u001b[0;34m(self, x, D, deltas, kernel, pv, nh, resample, b, seed, n_jobs)\u001b[0m\n\u001b[1;32m     <a href='file:///Users/llotter/opt/anaconda3/envs/domanalysis/lib/python3.8/site-packages/brainsmash/mapgen/base.py?line=61'>62</a>\u001b[0m \u001b[39mself\u001b[39m\u001b[39m.\u001b[39m_n_jobs \u001b[39m=\u001b[39m n_jobs\n\u001b[1;32m     <a href='file:///Users/llotter/opt/anaconda3/envs/domanalysis/lib/python3.8/site-packages/brainsmash/mapgen/base.py?line=63'>64</a>\u001b[0m \u001b[39mself\u001b[39m\u001b[39m.\u001b[39mx \u001b[39m=\u001b[39m x\n\u001b[0;32m---> <a href='file:///Users/llotter/opt/anaconda3/envs/domanalysis/lib/python3.8/site-packages/brainsmash/mapgen/base.py?line=64'>65</a>\u001b[0m \u001b[39mself\u001b[39m\u001b[39m.\u001b[39mD \u001b[39m=\u001b[39m D\n\u001b[1;32m     <a href='file:///Users/llotter/opt/anaconda3/envs/domanalysis/lib/python3.8/site-packages/brainsmash/mapgen/base.py?line=65'>66</a>\u001b[0m n \u001b[39m=\u001b[39m \u001b[39mself\u001b[39m\u001b[39m.\u001b[39m_x\u001b[39m.\u001b[39msize\n\u001b[1;32m     <a href='file:///Users/llotter/opt/anaconda3/envs/domanalysis/lib/python3.8/site-packages/brainsmash/mapgen/base.py?line=66'>67</a>\u001b[0m \u001b[39mself\u001b[39m\u001b[39m.\u001b[39mresample \u001b[39m=\u001b[39m resample\n",
      "File \u001b[0;32m~/opt/anaconda3/envs/domanalysis/lib/python3.8/site-packages/brainsmash/mapgen/base.py:335\u001b[0m, in \u001b[0;36mBase.D\u001b[0;34m(self, x)\u001b[0m\n\u001b[1;32m    <a href='file:///Users/llotter/opt/anaconda3/envs/domanalysis/lib/python3.8/site-packages/brainsmash/mapgen/base.py?line=332'>333</a>\u001b[0m     e \u001b[39m+\u001b[39m\u001b[39m=\u001b[39m \u001b[39m\"\u001b[39m\u001b[39m\\n\u001b[39;00m\u001b[39mDistance matrix shape: \u001b[39m\u001b[39m{}\u001b[39;00m\u001b[39m\"\u001b[39m\u001b[39m.\u001b[39mformat(x_\u001b[39m.\u001b[39mshape)\n\u001b[1;32m    <a href='file:///Users/llotter/opt/anaconda3/envs/domanalysis/lib/python3.8/site-packages/brainsmash/mapgen/base.py?line=333'>334</a>\u001b[0m     e \u001b[39m+\u001b[39m\u001b[39m=\u001b[39m \u001b[39m\"\u001b[39m\u001b[39m\\n\u001b[39;00m\u001b[39mBrain map size: \u001b[39m\u001b[39m{}\u001b[39;00m\u001b[39m\"\u001b[39m\u001b[39m.\u001b[39mformat(n)\n\u001b[0;32m--> <a href='file:///Users/llotter/opt/anaconda3/envs/domanalysis/lib/python3.8/site-packages/brainsmash/mapgen/base.py?line=334'>335</a>\u001b[0m     \u001b[39mraise\u001b[39;00m \u001b[39mValueError\u001b[39;00m(e)\n\u001b[1;32m    <a href='file:///Users/llotter/opt/anaconda3/envs/domanalysis/lib/python3.8/site-packages/brainsmash/mapgen/base.py?line=335'>336</a>\u001b[0m \u001b[39mself\u001b[39m\u001b[39m.\u001b[39m_D \u001b[39m=\u001b[39m x_\n",
      "\u001b[0;31mValueError\u001b[0m: Distance matrix must have dimensions consistent with brain map\nDistance matrix shape: (116, 116)\nBrain map size: 148"
     ]
    }
   ],
   "source": [
    "from cmc.nulls import generate_null_maps\n",
    "\n",
    "data_vol = np.random.random([10,116])\n",
    "data_surf = np.random.random([10,148])\n",
    "\n",
    "# vol\n",
    "nullsvol = generate_null_maps(data=data_vol,\n",
    "                              parcellation=parc)\n",
    "\n",
    "# surf\n",
    "nullsurf = generate_null_maps(data=data_surf,\n",
    "                              parcellation=parcellation)"
   ]
  },
  {
   "cell_type": "code",
   "execution_count": 4,
   "metadata": {},
   "outputs": [
    {
     "data": {
      "text/plain": [
       "({0: array([[-0.10420287,  0.52256725,  0.12336125, ...,  0.28569609,\n",
       "           0.52256313,  0.13689629],\n",
       "         [ 0.08504543, -0.1140205 ,  0.2078417 , ...,  0.13067392,\n",
       "           0.14410898,  0.30016059],\n",
       "         [ 0.08612203, -0.07581711, -0.0330339 , ..., -0.01355356,\n",
       "           0.11150103,  0.13913664],\n",
       "         ...,\n",
       "         [ 0.53850028,  0.38324876,  0.36951426, ...,  0.25133923,\n",
       "          -0.109461  , -0.57627549],\n",
       "         [ 0.28046373,  0.27413833,  0.32466452, ...,  0.19689478,\n",
       "          -0.10733851, -0.06226131],\n",
       "         [ 0.37726571, -0.28758603, -0.08939461, ...,  0.46585325,\n",
       "           0.16101567, -0.27597946]]),\n",
       "  1: array([[-0.54368134, -0.67972526,  0.22688211, ...,  0.40036343,\n",
       "           0.50207068, -0.40463923],\n",
       "         [ 0.53287908,  1.20150056,  0.09336765, ..., -0.31436545,\n",
       "          -0.60457305, -0.26334218],\n",
       "         [-0.07979624,  0.53744257,  0.46256689, ..., -0.63447648,\n",
       "          -0.26546394, -1.09428444],\n",
       "         ...,\n",
       "         [ 0.48862787,  0.97551538, -0.40944542, ..., -0.30820841,\n",
       "           0.25115435, -0.54613036],\n",
       "         [-0.20215422, -0.08432206,  0.4345032 , ...,  0.05823879,\n",
       "           0.07303409,  0.04515296],\n",
       "         [-0.77990209,  1.10709159,  1.5254468 , ..., -0.56095959,\n",
       "          -0.56778254, -0.26572498]]),\n",
       "  2: array([[ 0.15964362, -0.35119466, -0.17267678, ...,  0.01301941,\n",
       "           0.20716113, -0.01732987],\n",
       "         [-0.15879023, -0.30836285, -0.03851958, ...,  0.08796655,\n",
       "          -0.57337844,  0.20239006],\n",
       "         [-0.11276062, -0.01753542,  0.14006538, ...,  0.07256648,\n",
       "           0.17384355, -0.32639317],\n",
       "         ...,\n",
       "         [ 0.27009534, -0.23182039, -0.73713955, ..., -0.06752235,\n",
       "           0.19006051, -0.16608325],\n",
       "         [ 0.11050035, -0.0885018 ,  0.39585472, ..., -0.43899407,\n",
       "          -0.51005817,  0.06242044],\n",
       "         [-0.08683948, -0.21546768,  0.22430581, ...,  0.0193531 ,\n",
       "          -0.46423973,  0.87357774]]),\n",
       "  3: array([[-0.64968709, -0.53918901,  0.19999098, ...,  0.03218108,\n",
       "          -0.63555367, -0.30150227],\n",
       "         [ 0.2876242 ,  0.41825412,  0.42383035, ...,  0.65974647,\n",
       "           0.62215696, -0.03869446],\n",
       "         [ 0.3891188 , -0.58741799,  0.11488187, ...,  0.55708708,\n",
       "          -0.0726404 ,  0.69163121],\n",
       "         ...,\n",
       "         [ 0.11719934, -0.62750842, -0.49559053, ...,  0.48135547,\n",
       "           0.11374039,  0.1960458 ],\n",
       "         [-0.29991739,  0.22727929, -0.03409187, ...,  0.02627789,\n",
       "           0.27266519,  0.16764032],\n",
       "         [ 0.21304855, -0.3158511 , -0.09866176, ...,  0.24039486,\n",
       "          -0.05721783, -0.42972613]]),\n",
       "  4: array([[ 0.78210183, -0.03055019, -0.4254122 , ..., -0.24981353,\n",
       "          -0.02289689, -0.14077687],\n",
       "         [-0.07856582,  0.26918398, -0.24430385, ..., -0.10412475,\n",
       "           0.20193899, -0.67992433],\n",
       "         [ 0.14750733,  0.12663447,  0.20302858, ...,  0.37361787,\n",
       "          -0.06264811,  0.35912781],\n",
       "         ...,\n",
       "         [ 0.26302738, -0.01430998,  0.16872809, ..., -0.43896944,\n",
       "           0.60421283,  0.31542364],\n",
       "         [-0.31911462, -0.09292561,  0.04015394, ...,  0.05711252,\n",
       "          -0.05475921, -0.52535068],\n",
       "         [ 0.17393044,  0.53260687,  0.3675548 , ..., -0.22087423,\n",
       "           0.48899763, -0.42820503]]),\n",
       "  5: array([[-0.18689856, -0.02658942, -0.22525409, ...,  0.25228013,\n",
       "          -0.09983197,  0.07475434],\n",
       "         [-0.11348063,  0.1194668 ,  0.16318833, ..., -0.15149569,\n",
       "           0.13038602,  0.2288663 ],\n",
       "         [-0.11409721, -0.22567142, -0.10576352, ..., -0.10787436,\n",
       "          -0.26504068,  0.1824096 ],\n",
       "         ...,\n",
       "         [ 0.20368598, -0.20546225,  0.04734958, ...,  0.17001145,\n",
       "          -0.10588465,  0.04242372],\n",
       "         [-0.3459045 , -0.46460136, -0.90675722, ..., -0.00698086,\n",
       "           0.16703037,  0.14195291],\n",
       "         [ 0.52740155, -0.4296871 , -0.7494837 , ...,  0.25370993,\n",
       "           0.68039261, -0.02893417]]),\n",
       "  6: array([[ 0.24359305,  0.15518452,  0.43400748, ..., -0.20861249,\n",
       "           0.06758608, -0.3675563 ],\n",
       "         [ 0.250924  ,  0.29009139, -0.4852857 , ..., -0.06951344,\n",
       "           0.18590098, -0.15901918],\n",
       "         [-0.04148116, -0.2774961 , -0.28254763, ...,  0.24347745,\n",
       "           0.2024062 ,  0.18078059],\n",
       "         ...,\n",
       "         [-0.03830582,  0.29226213, -0.08817561, ..., -0.10148287,\n",
       "           0.03404676,  0.68700119],\n",
       "         [-0.29461186, -0.62829346,  0.00240011, ..., -0.65456101,\n",
       "           0.27011038, -0.23509453],\n",
       "         [ 0.0124263 , -0.19673717, -0.04595552, ..., -0.02883239,\n",
       "          -0.27396639, -0.0980707 ]]),\n",
       "  7: array([[ 0.05567338,  0.30546607, -0.18027526, ..., -0.06089924,\n",
       "          -0.01147888,  0.10341355],\n",
       "         [-0.22269875, -0.08685859, -0.03018357, ..., -0.4752021 ,\n",
       "          -0.0728486 , -0.06845751],\n",
       "         [-0.14166637, -0.00101597, -0.08081731, ..., -0.25341329,\n",
       "          -0.16890522, -0.35078106],\n",
       "         ...,\n",
       "         [-0.31296997, -0.10730882,  0.1210919 , ..., -0.18905959,\n",
       "           0.03999816, -0.58852982],\n",
       "         [ 0.1304606 , -0.03070987, -0.01626833, ...,  0.48726224,\n",
       "           0.32940258, -0.06060432],\n",
       "         [-0.44501061,  0.17356586, -0.17608888, ..., -0.43224471,\n",
       "           0.02889041,  0.35640826]]),\n",
       "  8: array([[-0.08981526,  0.267415  ,  0.49847933, ...,  0.58562448,\n",
       "           0.10938338, -0.99590688],\n",
       "         [-0.56760073,  0.32735168,  0.00375286, ..., -0.09731418,\n",
       "          -0.55668904, -0.12428426],\n",
       "         [ 0.5496052 ,  0.54438754,  0.0495203 , ...,  0.02531022,\n",
       "           0.19875452, -0.44408616],\n",
       "         ...,\n",
       "         [ 0.4007262 ,  0.73407584,  0.53593696, ..., -0.15549919,\n",
       "          -0.30972433, -0.36460866],\n",
       "         [-0.68783104,  0.74916355, -0.1458376 , ...,  0.5786582 ,\n",
       "          -0.11351479, -0.11958271],\n",
       "         [-0.61258968,  0.23869621, -0.07939873, ..., -0.66009612,\n",
       "          -0.16780293,  0.29640879]]),\n",
       "  9: array([[-0.27781068,  0.40571084,  0.72771455, ..., -0.40625499,\n",
       "           0.09366706, -0.42521969],\n",
       "         [ 0.1232007 ,  0.53090494,  0.32948582, ..., -0.03809539,\n",
       "          -0.01391142,  0.78645283],\n",
       "         [-0.66169236, -0.31443074, -0.42358119, ...,  0.41791532,\n",
       "           0.72714439, -0.02204591],\n",
       "         ...,\n",
       "         [-0.38564291, -0.3573829 , -0.60108651, ..., -0.20104146,\n",
       "           0.19456289,  0.93510316],\n",
       "         [ 0.2715772 ,  0.56348801,  0.21744157, ..., -0.45620338,\n",
       "          -0.33057732,  0.12627652],\n",
       "         [-0.42042001, -0.11386984, -0.58543098, ...,  0.11823807,\n",
       "           0.19965431,  0.49388434]])},\n",
       " array([[15.151454, 46.026604, 33.721268, ..., 35.74386 , 40.444614,\n",
       "         55.00016 ],\n",
       "        [46.026604, 16.820744, 25.400406, ..., 74.90766 , 79.37122 ,\n",
       "         92.38235 ],\n",
       "        [33.721268, 25.400406, 16.829594, ..., 58.256878, 63.54451 ,\n",
       "         74.81216 ],\n",
       "        ...,\n",
       "        [35.74386 , 74.90766 , 58.256878, ...,  8.764838, 15.420214,\n",
       "         22.352907],\n",
       "        [40.444614, 79.37122 , 63.54451 , ..., 15.420214, 15.517078,\n",
       "         23.385948],\n",
       "        [55.00016 , 92.38235 , 74.81216 , ..., 22.352907, 23.385948,\n",
       "         12.481091]], dtype=float32))"
      ]
     },
     "execution_count": 4,
     "metadata": {},
     "output_type": "execute_result"
    }
   ],
   "source": [
    "nullsvol"
   ]
  },
  {
   "cell_type": "code",
   "execution_count": null,
   "metadata": {},
   "outputs": [],
   "source": []
  }
 ],
 "metadata": {
  "interpreter": {
   "hash": "20e698119610e0a6a39690b27787f89721b39991bae381289fc4524f653a08e8"
  },
  "kernelspec": {
   "display_name": "Python 3.8.13 ('domanalysis')",
   "language": "python",
   "name": "python3"
  },
  "language_info": {
   "codemirror_mode": {
    "name": "ipython",
    "version": 3
   },
   "file_extension": ".py",
   "mimetype": "text/x-python",
   "name": "python",
   "nbconvert_exporter": "python",
   "pygments_lexer": "ipython3",
   "version": "3.8.13"
  },
  "orig_nbformat": 4
 },
 "nbformat": 4,
 "nbformat_minor": 2
}
