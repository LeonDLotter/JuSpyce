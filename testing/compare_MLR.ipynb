{
 "cells": [
  {
   "cell_type": "markdown",
   "metadata": {},
   "source": [
    "# Compare multivariate linear models computing time for dominance analysis"
   ]
  },
  {
   "cell_type": "code",
   "execution_count": 13,
   "metadata": {},
   "outputs": [
    {
     "name": "stdout",
     "output_type": "stream",
     "text": [
      "/Users/llotter/projects/juspyce\n"
     ]
    }
   ],
   "source": [
    "import pandas as pd\n",
    "import numpy as np\n",
    "import pathlib\n",
    "import sys\n",
    "import os \n",
    "from sklearn.linear_model import LinearRegression\n",
    "import statsmodels.api as sm\n",
    "from IPython.display import display\n",
    "from dominance_analysis import Dominance\n",
    "from netneurotools.stats import get_dominance_stats\n",
    "import contextlib\n",
    "\n",
    "# current path\n",
    "wd = pathlib.Path().resolve().parent\n",
    "print(wd)\n",
    "\n",
    "# import juspyce\n",
    "sys.path.append(os.path.dirname(os.path.join(wd, \"juspyce\")))\n",
    "from juspyce.stats import dominance"
   ]
  },
  {
   "cell_type": "markdown",
   "metadata": {},
   "source": [
    "## sample data"
   ]
  },
  {
   "cell_type": "code",
   "execution_count": 14,
   "metadata": {},
   "outputs": [
    {
     "data": {
      "text/plain": [
       "(100, 10)"
      ]
     },
     "metadata": {},
     "output_type": "display_data"
    },
    {
     "data": {
      "text/plain": [
       "(100, 1)"
      ]
     },
     "metadata": {},
     "output_type": "display_data"
    }
   ],
   "source": [
    "np.random.seed(42)\n",
    "x = np.random.random([100,10]) * 10\n",
    "y = np.random.random([100,1]) * 5\n",
    "display(x.shape)\n",
    "display(y.shape)\n",
    "\n",
    "adj_r2 = False"
   ]
  },
  {
   "cell_type": "markdown",
   "metadata": {},
   "source": [
    "## MLR"
   ]
  },
  {
   "cell_type": "markdown",
   "metadata": {},
   "source": [
    "### sklearn"
   ]
  },
  {
   "cell_type": "code",
   "execution_count": 15,
   "metadata": {},
   "outputs": [
    {
     "name": "stdout",
     "output_type": "stream",
     "text": [
      "0.07494045395314919\n",
      "420 µs ± 12 µs per loop (mean ± std. dev. of 7 runs, 1,000 loops each)\n"
     ]
    }
   ],
   "source": [
    "def get_r2(x,y, adj_r2=False):\n",
    "    mlr = LinearRegression().fit(X=x, y=y)\n",
    "    if adj_r2:\n",
    "        return 1 - (1-mlr.score(X=x, y=y))*(len(y)-1)/(len(y)-x.shape[1]-1)\n",
    "    else:\n",
    "        return mlr.score(X=x, y=y)\n",
    "\n",
    "print(get_r2(x,y, adj_r2=adj_r2))\n",
    "%timeit get_r2(x,y, adj_r2=adj_r2)"
   ]
  },
  {
   "cell_type": "markdown",
   "metadata": {},
   "source": [
    "### statsmodels"
   ]
  },
  {
   "cell_type": "code",
   "execution_count": 21,
   "metadata": {},
   "outputs": [
    {
     "name": "stdout",
     "output_type": "stream",
     "text": [
      "0.07494045395314908\n",
      "360 µs ± 3.5 µs per loop (mean ± std. dev. of 7 runs, 1,000 loops each)\n"
     ]
    }
   ],
   "source": [
    "def get_r2(x,y, adj_r2=False):\n",
    "    mlr = sm.OLS(y,sm.add_constant(x)).fit()\n",
    "    if adj_r2:\n",
    "        return mlr.rsquared_adj\n",
    "    else:\n",
    "        return mlr.rsquared\n",
    "\n",
    "print(get_r2(x,y, adj_r2=adj_r2))\n",
    "%timeit get_r2(x,y, adj_r2=adj_r2)"
   ]
  },
  {
   "cell_type": "markdown",
   "metadata": {},
   "source": [
    "### custom 1"
   ]
  },
  {
   "cell_type": "code",
   "execution_count": 17,
   "metadata": {},
   "outputs": [
    {
     "name": "stdout",
     "output_type": "stream",
     "text": [
      "0.07494045395314886\n",
      "207 µs ± 1.36 µs per loop (mean ± std. dev. of 7 runs, 1,000 loops each)\n"
     ]
    }
   ],
   "source": [
    "def get_r2(X,y, adj_r2=False):\n",
    "    X = np.c_[X, np.ones(X.shape[0])]\n",
    "    beta = np.linalg.lstsq(X, y, rcond=None)[0]\n",
    "    y_hat = np.dot(X, beta)\n",
    "    ss_res = np.sum((y-y_hat)**2)       \n",
    "    ss_tot = np.sum((y-np.mean(y))**2)  \n",
    "    r2 = 1 - ss_res / ss_tot\n",
    "    if adj_r2:\n",
    "        return 1 - (1-r2) * (len(y)-1) / (len(y)-x.shape[1]-1)\n",
    "    else:\n",
    "        return r2\n",
    "\n",
    "print(get_r2(x,y, adj_r2=adj_r2))\n",
    "%timeit get_r2(x,y, adj_r2=adj_r2)"
   ]
  },
  {
   "cell_type": "markdown",
   "metadata": {},
   "source": [
    "### custom 2"
   ]
  },
  {
   "cell_type": "code",
   "execution_count": 20,
   "metadata": {},
   "outputs": [
    {
     "name": "stdout",
     "output_type": "stream",
     "text": [
      "0.07494045395314908\n",
      "111 µs ± 190 ns per loop (mean ± std. dev. of 7 runs, 10,000 loops each)\n"
     ]
    }
   ],
   "source": [
    "def get_r2(X, y, adj_r2=False):\n",
    "    X = np.c_[X, np.ones(X.shape[0])] \n",
    "    beta = np.linalg.pinv((X.T).dot(X)).dot(X.T.dot(y))\n",
    "    y_hat = np.dot(X, beta)\n",
    "    ss_res = np.sum((y-y_hat)**2)       \n",
    "    ss_tot = np.sum((y-np.mean(y))**2)   \n",
    "    r2 = 1 - ss_res / ss_tot  \n",
    "    if adj_r2:\n",
    "        return 1 - (1-r2) * (len(y)-1) / (len(y)-x.shape[1]-1)\n",
    "    else:\n",
    "        return r2\n",
    "\n",
    "print(get_r2(x,y, adj_r2=adj_r2))\n",
    "%timeit get_r2(x,y, adj_r2=adj_r2)"
   ]
  },
  {
   "cell_type": "markdown",
   "metadata": {},
   "source": [
    "## Dominance analysis\n",
    "\n",
    "Implementation of \"custom 2\" code"
   ]
  },
  {
   "cell_type": "code",
   "execution_count": 23,
   "metadata": {},
   "outputs": [],
   "source": [
    "adjust_r2 = False\n",
    "\n",
    "# custom version\n",
    "def dominance_my(x, y):\n",
    "    dom = dominance(x, y, adj_r2=adjust_r2, verbose=False)\n",
    "    return dom[\"total\"]\n",
    "\n",
    "# dominance-analysis toolbox\n",
    "def dominance_toolbox(x, y):\n",
    "    X = pd.DataFrame(x, columns=[f\"pred{i}\" for i in range(x.shape[1])])\n",
    "    Y = pd.DataFrame(y, columns=[\"target\"])\n",
    "    df=pd.concat([X,Y], axis=1)\n",
    "    with contextlib.redirect_stdout(None):\n",
    "        dom = Dominance(\n",
    "            data=df, \n",
    "            target=\"target\",\n",
    "            objective=1,\n",
    "            top_k=x.shape[1])\n",
    "        dom.incremental_rsquare()\n",
    "        dom_stats = dom.dominance_stats()\n",
    "    return dom_stats[\"Total Dominance\"].sort_index().values\n",
    "    \n",
    "# network neuroscience lab tool\n",
    "def dominance_netneuro(x, y):\n",
    "    dom, _ = get_dominance_stats(X=x, y=y, use_adjusted_r_sq=adjust_r2, verbose=False)\n",
    "    return dom[\"total_dominance\"]"
   ]
  },
  {
   "cell_type": "markdown",
   "metadata": {},
   "source": [
    "### compare"
   ]
  },
  {
   "cell_type": "code",
   "execution_count": 24,
   "metadata": {},
   "outputs": [
    {
     "name": "stdout",
     "output_type": "stream",
     "text": [
      "Custom\n",
      "[0.00290934 0.04157522 0.00768184 0.00031752 0.00255071 0.00342477\n",
      " 0.0061324  0.00217687 0.00502667 0.0031451 ]\n",
      "95.1 ms ± 805 µs per loop (mean ± std. dev. of 7 runs, 10 loops each)\n"
     ]
    }
   ],
   "source": [
    "print(\"Custom\")\n",
    "print(dominance_my(x,y))\n",
    "%timeit dominance_my(x,y)"
   ]
  },
  {
   "cell_type": "code",
   "execution_count": 26,
   "metadata": {},
   "outputs": [
    {
     "name": "stdout",
     "output_type": "stream",
     "text": [
      "netneurotools\n",
      "[0.00290934 0.04157522 0.00768184 0.00031752 0.00255071 0.00342477\n",
      " 0.0061324  0.00217687 0.00502667 0.0031451 ]\n",
      "367 ms ± 5.37 ms per loop (mean ± std. dev. of 7 runs, 1 loop each)\n"
     ]
    }
   ],
   "source": [
    "print(\"netneurotools\")\n",
    "print(dominance_netneuro(x,y))\n",
    "%timeit dominance_netneuro(x,y)"
   ]
  },
  {
   "cell_type": "code",
   "execution_count": 25,
   "metadata": {},
   "outputs": [
    {
     "name": "stderr",
     "output_type": "stream",
     "text": [
      "  0%|          | 0/10 [00:00<?, ?it/s]"
     ]
    },
    {
     "name": "stdout",
     "output_type": "stream",
     "text": [
      "dominance-analysis toolbox\n"
     ]
    },
    {
     "name": "stderr",
     "output_type": "stream",
     "text": [
      "100%|██████████| 10/10 [00:01<00:00,  5.96it/s]\n",
      "100%|██████████| 9/9 [00:00<00:00, 48.44it/s]\n",
      " 30%|███       | 3/10 [00:00<00:00, 10.57it/s]"
     ]
    },
    {
     "name": "stdout",
     "output_type": "stream",
     "text": [
      "[0.0029093428978056953 0.041575219681253404 0.007681842235021487\n",
      " 0.0003175244846935784 0.0025507064295806395 0.003424772808622289\n",
      " 0.006132398551865958 0.0021768737525747735 0.0050266687085035195\n",
      " 0.003145104403227845]\n"
     ]
    },
    {
     "name": "stderr",
     "output_type": "stream",
     "text": [
      "100%|██████████| 10/10 [00:01<00:00,  5.89it/s]\n",
      "100%|██████████| 9/9 [00:00<00:00, 48.37it/s]\n",
      "100%|██████████| 10/10 [00:01<00:00,  5.87it/s]\n",
      "100%|██████████| 9/9 [00:00<00:00, 47.89it/s]\n",
      "100%|██████████| 10/10 [00:01<00:00,  5.94it/s]\n",
      "100%|██████████| 9/9 [00:00<00:00, 47.84it/s]\n",
      "100%|██████████| 10/10 [00:01<00:00,  5.99it/s]\n",
      "100%|██████████| 9/9 [00:00<00:00, 48.40it/s]\n",
      "100%|██████████| 10/10 [00:01<00:00,  5.98it/s]\n",
      "100%|██████████| 9/9 [00:00<00:00, 48.53it/s]\n",
      "100%|██████████| 10/10 [00:01<00:00,  5.99it/s]\n",
      "100%|██████████| 9/9 [00:00<00:00, 48.46it/s]\n",
      "100%|██████████| 10/10 [00:01<00:00,  5.96it/s]\n",
      "100%|██████████| 9/9 [00:00<00:00, 48.21it/s]\n",
      "100%|██████████| 10/10 [00:01<00:00,  6.03it/s]\n",
      "100%|██████████| 9/9 [00:00<00:00, 48.29it/s]"
     ]
    },
    {
     "name": "stdout",
     "output_type": "stream",
     "text": [
      "1.88 s ± 14.4 ms per loop (mean ± std. dev. of 7 runs, 1 loop each)\n"
     ]
    },
    {
     "name": "stderr",
     "output_type": "stream",
     "text": [
      "\n"
     ]
    }
   ],
   "source": [
    "print(\"dominance-analysis toolbox\")\n",
    "print(dominance_toolbox(x,y))\n",
    "%timeit dominance_toolbox(x,y)"
   ]
  },
  {
   "cell_type": "code",
   "execution_count": null,
   "metadata": {},
   "outputs": [],
   "source": []
  }
 ],
 "metadata": {
  "kernelspec": {
   "display_name": "Python 3.8.13 ('domanalysis')",
   "language": "python",
   "name": "python3"
  },
  "language_info": {
   "codemirror_mode": {
    "name": "ipython",
    "version": 3
   },
   "file_extension": ".py",
   "mimetype": "text/x-python",
   "name": "python",
   "nbconvert_exporter": "python",
   "pygments_lexer": "ipython3",
   "version": "3.8.13"
  },
  "orig_nbformat": 4,
  "vscode": {
   "interpreter": {
    "hash": "20e698119610e0a6a39690b27787f89721b39991bae381289fc4524f653a08e8"
   }
  }
 },
 "nbformat": 4,
 "nbformat_minor": 2
}
